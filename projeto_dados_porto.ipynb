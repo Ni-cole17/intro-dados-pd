{
  "nbformat": 4,
  "nbformat_minor": 0,
  "metadata": {
    "colab": {
      "provenance": [],
      "collapsed_sections": [
        "5ELtkY5YjVyW",
        "SYR4WQomUnl2",
        "ZvHUz5ofIAnp",
        "GCtxpQSHX9F8",
        "OT4ayHj9SBXt",
        "knX4GjENUrql",
        "17xIFYVAWAEp"
      ],
      "mount_file_id": "1Nq7SjJ1uPzaBvRyeKassy13jjZTItRBW",
      "authorship_tag": "ABX9TyMOt0cfTzEsdf/Y0DImdrPH",
      "include_colab_link": true
    },
    "kernelspec": {
      "name": "python3",
      "display_name": "Python 3"
    },
    "language_info": {
      "name": "python"
    }
  },
  "cells": [
    {
      "cell_type": "markdown",
      "metadata": {
        "id": "view-in-github",
        "colab_type": "text"
      },
      "source": [
        "<a href=\"https://colab.research.google.com/github/Ni-cole17/intro-dados-pd/blob/main/projeto_dados_porto.ipynb\" target=\"_parent\"><img src=\"https://colab.research.google.com/assets/colab-badge.svg\" alt=\"Open In Colab\"/></a>"
      ]
    },
    {
      "cell_type": "markdown",
      "source": [
        "# Projeto de Dados: Análise de Ocorrências Aeronáuticas na Aviação Civil Brasileira ✈ 🐦\n",
        "\n",
        "## Objetivo\n",
        "O objetivo deste projeto é permitir de forma simples, juntar o que aprendemos,  para identificar padrões nas ocorrências aeronáuticas no Brasil. Para isso, serão aplicadas os principais conceitos de engenharia de dados, técnicas de manipulação e visualização de dados para responder perguntas.\n",
        "\n",
        "## Requisitos\n",
        "(CENÁRIO FICTÍCIO)\n",
        "\n",
        "A Embraer está com um projeto junto ao porto digital. O projeto consiste na criação de uma solução de dados para analisar o conjunto de dados do Centro de Investigação e Prevenção de Acidentes Aeronáuticos (CENIPA), que contém registros detalhados de incidentes e acidentes na aviação civil brasileira com aves. O cliente deseja responder a perguntas para entender melhor como está o cenário histórico de acidentes e incidentes com aves no Brasil:\n",
        "\n",
        " - Quais são os principais tipos de reportes e como eles se comportam ao longo dos anos?\n",
        " - Como as ocorrências estão distribuídas geograficamente?\n",
        " - Há padrões sazonais que indicam aumento no número de incidentes em determinados períodos do dia? (Considerar horário de Brasília)\n",
        " - Existe alguma relação do tipo de passáro com o tipo de ocorrência?\n",
        "\n",
        "Para isso deve ser montado um ambiente que tenha:\n",
        " - Local para os dados serem armazenados em seu formato original\n",
        " - Local para os dados serem armazenados após tratados\n",
        " - Disponibilização dos dados para consumo\n",
        " - Criação das visualizações"
      ],
      "metadata": {
        "id": "n-REL6QBWrCb"
      }
    },
    {
      "cell_type": "markdown",
      "source": [
        "A base fornecida pode ser consultada no seguinte endereço:\n",
        "\n",
        "Reportes_2011_2021: https://dados.gov.br/dados/conjuntos-dados/ocorrencias-aeronauticas-da-aviacao-civil-brasileira: Reportes Risco de Fauna 2011 a 2021\n",
        "|\n",
        "\n",
        "Reportes_especies_2011_2021: https://dados.gov.br/dados/conjuntos-dados/ocorrencias-aeronauticas-da-aviacao-civil-brasileira: Espécies do Risco de Fauna de 2011 a 2021."
      ],
      "metadata": {
        "id": "PadW0pLah1iY"
      }
    },
    {
      "cell_type": "markdown",
      "source": [
        "## Coleta e definição das bases de dados"
      ],
      "metadata": {
        "id": "5ELtkY5YjVyW"
      }
    },
    {
      "cell_type": "code",
      "source": [
        "## ESSA ETAPA PODE SER REALIZADA VIA SCRIPT OU COM ALGUMA FERRAMENTA COMO O EXCEL."
      ],
      "metadata": {
        "id": "VS9oMNx3jVK0"
      },
      "execution_count": null,
      "outputs": []
    },
    {
      "cell_type": "markdown",
      "source": [
        "Outras bases que vamos utilizar para enriquecer os dados:\n",
        "\n",
        "AerodromosPrivados: https://www.anac.gov.br/acesso-a-informacao/dados-abertos/areas-de-atuacao/aerodromos/lista-de-aerodromos-privados-v2\n",
        "\n",
        "AerodromosPublicos: https://www.anac.gov.br/acesso-a-informacao/dados-abertos/areas-de-atuacao/aerodromos/lista-de-aerodromos-publicos-v2\n",
        "\n",
        "utc: Desenvolvido Manualmente"
      ],
      "metadata": {
        "id": "yxVeIj5gi566"
      }
    },
    {
      "cell_type": "markdown",
      "source": [
        "## Preparação do ambiente"
      ],
      "metadata": {
        "id": "SYR4WQomUnl2"
      }
    },
    {
      "cell_type": "markdown",
      "source": [
        "### Instalação Bibliotecas"
      ],
      "metadata": {
        "id": "ZvHUz5ofIAnp"
      }
    },
    {
      "cell_type": "code",
      "source": [
        "!pip install unidecode\n",
        "!pip install pyspark"
      ],
      "metadata": {
        "colab": {
          "base_uri": "https://localhost:8080/"
        },
        "id": "MkKyVRESID4S",
        "outputId": "2415d9a1-8ba1-4377-c676-78c833e081ab"
      },
      "execution_count": 3,
      "outputs": [
        {
          "output_type": "stream",
          "name": "stdout",
          "text": [
            "Collecting unidecode\n",
            "  Downloading Unidecode-1.3.8-py3-none-any.whl.metadata (13 kB)\n",
            "Downloading Unidecode-1.3.8-py3-none-any.whl (235 kB)\n",
            "\u001b[2K   \u001b[90m━━━━━━━━━━━━━━━━━━━━━━━━━━━━━━━━━━━━━━━━\u001b[0m \u001b[32m235.5/235.5 kB\u001b[0m \u001b[31m4.5 MB/s\u001b[0m eta \u001b[36m0:00:00\u001b[0m\n",
            "\u001b[?25hInstalling collected packages: unidecode\n",
            "Successfully installed unidecode-1.3.8\n",
            "Requirement already satisfied: pyspark in /usr/local/lib/python3.11/dist-packages (3.5.4)\n",
            "Requirement already satisfied: py4j==0.10.9.7 in /usr/local/lib/python3.11/dist-packages (from pyspark) (0.10.9.7)\n"
          ]
        }
      ]
    },
    {
      "cell_type": "code",
      "source": [
        "from unidecode import unidecode\n",
        "import requests\n",
        "import pandas as pd\n",
        "from io import StringIO\n",
        "import os\n",
        "\n",
        "from pyspark.sql import SparkSession\n",
        "from pyspark.sql import functions as F\n",
        "from pyspark.sql import DataFrame\n",
        "from pyspark.sql.types import StructType, StructField, StringType,FloatType,IntegerType,StructType, DateType, TimestampType,DoubleType"
      ],
      "metadata": {
        "id": "Qk3AEfZmIJWr"
      },
      "execution_count": 4,
      "outputs": []
    },
    {
      "cell_type": "code",
      "source": [
        "## Definição do spark com configurações básicas\n",
        "spark = SparkSession.builder \\\n",
        "    .master('local[*]') \\\n",
        "    .appName('Iniciando com Spark') \\\n",
        "    .config('spark.ui.port', '4050') \\\n",
        "    .getOrCreate()\n",
        "\n",
        "## Dica: Geralmente são definidas muito mais variáveis ao iniciar uma sessão do spark, principalmente quando se trabalha com BigData, como:\n",
        "## Número de executores e drives, espaços na memória, entre outros...\n",
        "## Essas definições são importantes pois otimizam o funcionamento do processamento de dados, reduzindo tempo e custo do projeto."
      ],
      "metadata": {
        "id": "CXY4c4U7LAnO"
      },
      "execution_count": 5,
      "outputs": []
    },
    {
      "cell_type": "markdown",
      "source": [
        "### Criação da arquitetura de armazenamento"
      ],
      "metadata": {
        "id": "GCtxpQSHX9F8"
      }
    },
    {
      "cell_type": "markdown",
      "source": [
        "![image.png](data:image/png;base64,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)"
      ],
      "metadata": {
        "id": "ugQf5dMoWUgT"
      }
    },
    {
      "cell_type": "markdown",
      "source": [
        "1º Desafio: Melhorem a arquitetura de dados utilizando alguma cloud.\n",
        "\n",
        "Definam:\n",
        "\n",
        "    - Qual ferramenta vocês vão utilizar para armazenamento;\n",
        "\n",
        "    - Qual ferramenta vão utilizar para realizar a ingestão de dados, assim como a origem desses dados;\n",
        "\n",
        "    - Qual/Quais ferramentas vão utilizar para o processamento dos dados e automatização das pipelines;\n",
        "\n",
        "    - Qual ferramenta vão utilizar para a visualização de dados.\n",
        "\n",
        "Dicas: Ver sempre a conectividade entre as ferramentas que vocês vão usar e a viabilidade do projeto que vocês estão fazendo. (Evitar serviços muito caros e que não vão ser necessários pela volumetria dos dados) e justifiquem tudo que estiverem utilizando."
      ],
      "metadata": {
        "id": "VOkPnEgUd23B"
      }
    },
    {
      "cell_type": "code",
      "source": [
        "from google.colab import drive\n",
        "drive.mount('/content/drive')"
      ],
      "metadata": {
        "colab": {
          "base_uri": "https://localhost:8080/"
        },
        "id": "mpBs71m8e9vM",
        "outputId": "28b317e0-40a7-4e88-b549-e14f19dbfad4"
      },
      "execution_count": null,
      "outputs": [
        {
          "output_type": "stream",
          "name": "stdout",
          "text": [
            "Drive already mounted at /content/drive; to attempt to forcibly remount, call drive.mount(\"/content/drive\", force_remount=True).\n"
          ]
        }
      ]
    },
    {
      "cell_type": "code",
      "source": [
        "## Nessa etapa vamos criar as pastas correspondentes a cada camada de dados\n",
        "## Onde terá os dados mais brutos até os dados que serão utilizados para as visualizações\n",
        "## Para isso vamos criar as pastas com o comando MKDIR do linux\n",
        "!rm -rf sample_data\n",
        "!mkdir -p '/content/drive/MyDrive/projeto_dados/bronze'\n",
        "!mkdir -p '/content/drive/MyDrive/projeto_dados/prata'\n",
        "!mkdir -p '/content/drive/MyDrive/projeto_dados/ouro'\n",
        "## Essa etapa corresponde à etapa de criação do serviço de armazenamento de dados na nuvem, assim como dos espaços onde os dados ficarão armazenados\n",
        "### DICA: Pode ser utilizado ferramentas como o Terraform para definir a arquitetura em cloud (AVANÇADO)\n"
      ],
      "metadata": {
        "id": "Cu-QqnkrWHCa"
      },
      "execution_count": null,
      "outputs": []
    },
    {
      "cell_type": "markdown",
      "source": [
        "## Ingestão dos dados"
      ],
      "metadata": {
        "id": "OT4ayHj9SBXt"
      }
    },
    {
      "cell_type": "code",
      "source": [
        "def get_files_to_raw(url: str, sub_folder: str, path_padrao: str='/content/drive/MyDrive/projeto_dados/bronze',token_folder: str = '/content/drive/MyDrive/projeto_dados/TOKENS/token.txt'):\n",
        "    \"\"\"\n",
        "    Baixa um arquivo de um repositório GitHub e o salva localmente.\n",
        "\n",
        "    Parâmetros:\n",
        "    url (str): URL da API do GitHub para o arquivo desejado.\n",
        "        Exemplo: \"https://api.github.com/repos/usuario/repo/contents/caminho/para/o/arquivo.csv\"\n",
        "    sub_folder (str): Subpasta onde o arquivo será salvo. A pasta será composta pelo path padrão definido e o nome do arquivo.\n",
        "\n",
        "    Retorno:\n",
        "    Nenhum. A função salva o arquivo diretamente no diretório local.\n",
        "\n",
        "    Descrição:\n",
        "    - A função faz uma requisição GET à API do GitHub para obter o arquivo especificado na URL.\n",
        "    - A requisição inclui um token de autenticação para o GitHub.\n",
        "    - Caso a requisição seja bem-sucedida, a função obtém a URL para download direto do arquivo.\n",
        "    - O arquivo é então baixado e salvo localmente na pasta padrão, com o nome extraído da URL.\n",
        "    - Em caso de erro durante o processo, a função imprime uma mensagem de erro.\n",
        "\n",
        "    Exemplo de uso:\n",
        "    >>> url = \"https://api.github.com/repos/usuario/repo/contents/caminho/para/o/arquivo.csv\"\n",
        "    >>> sub_folder = \"bronze\"\n",
        "    >>> get_files_to_raw(url, sub_folder)\n",
        "    \"\"\"\n",
        "\n",
        "    ## Definindo constantes\n",
        "    with open(token_folder, 'r') as f:\n",
        "        TOKEN = f.read().strip()\n",
        "    headers = {\"Authorization\": f\"token {TOKEN}\"} # Autenticação\n",
        "    file_path = url.split('/')[-1].lower() # Padronizando o nome dos arquivos\n",
        "\n",
        "    # Requisição à API\n",
        "    response = requests.get(url, headers=headers)\n",
        "\n",
        "    # Cria o diretório na bronze se caso não existir\n",
        "    if not os.path.exists(f\"{path_padrao}/{sub_folder}\"):\n",
        "        os.makedirs(f\"{path_padrao}/{sub_folder}\")\n",
        "\n",
        "    # Se o resultado for 200, faz o download do arquivo\n",
        "    if response.status_code == 200:\n",
        "        file_data = response.json()\n",
        "        download_url = file_data[\"download_url\"]  # Obtém a URL bruta do arquivo\n",
        "        response_csv = requests.get(download_url, headers=headers) # Baixa o conteúdo do arquivo\n",
        "\n",
        "        if response_csv.status_code == 200:\n",
        "            # Salva o arquivo CSV no caminho\n",
        "            with open(f\"{path_padrao}/{sub_folder}/{file_path}\", \"w\", encoding=\"utf-8\") as file:\n",
        "                file.write(response_csv.text)\n",
        "            print(\"Arquivo salvo com sucesso!\")\n",
        "        else:\n",
        "            print(f\"Erro ao baixar o CSV: {response_csv.status_code}\")\n",
        "    else:\n",
        "        print(f\"Erro ao acessar o arquivo: {response.status_code} - {response.text}\")"
      ],
      "metadata": {
        "id": "8UNsiiO_aR3b"
      },
      "execution_count": 25,
      "outputs": []
    },
    {
      "cell_type": "code",
      "source": [
        "OWNER = \"Ni-cole17\"          # Nome do dono do repositório\n",
        "REPO = \"intro-dados-pd\"      # Nome do repositório\n",
        "\n",
        "dict_data = {\n",
        "             'reportes_2011_2021':{'path':'data/reportes_2011_2021.csv','sub_folder':'reportes'},\n",
        "             'reportes_especies_2011_2021':{'path':'data/reportes_especies_2011_2021.csv','sub_folder':'especies'},\n",
        "             'AerodromosPrivados':{'path':'data/AerodromosPrivados.csv','sub_folder':'aerodromos'},\n",
        "             'AerodromosPublicos':{'path':'data/AerodromosPublicos.csv','sub_folder':'aerodromos'},\n",
        "             'utc':{'path':'data/utc.csv','sub_folder':'utc'}\n",
        "             }\n",
        "\n",
        "for chave, valor in dict_data.items():\n",
        "  url = f\"https://api.github.com/repos/{OWNER}/{REPO}/contents/{valor['path']}\"\n",
        "  get_files_to_raw(url,sub_folder=valor['sub_folder'])"
      ],
      "metadata": {
        "id": "Lmu8XR1jdbnp",
        "colab": {
          "base_uri": "https://localhost:8080/"
        },
        "outputId": "347f632d-cba5-4127-e8b1-786adb2b4055"
      },
      "execution_count": 26,
      "outputs": [
        {
          "output_type": "stream",
          "name": "stdout",
          "text": [
            "Arquivo salvo com sucesso!\n",
            "Arquivo salvo com sucesso!\n",
            "Arquivo salvo com sucesso!\n",
            "Arquivo salvo com sucesso!\n",
            "Arquivo salvo com sucesso!\n"
          ]
        }
      ]
    },
    {
      "cell_type": "markdown",
      "source": [
        "## Extração, Processamento e Carregamento"
      ],
      "metadata": {
        "id": "knX4GjENUrql"
      }
    },
    {
      "cell_type": "code",
      "source": [
        "def create_file_path_dictionary(root_dir: str) -> str:\n",
        "    \"\"\"\n",
        "    Cria um dicionário com os caminhos dos arquivos.\n",
        "\n",
        "    Args:\n",
        "    root_dir: O diretório raiz para procurar os arquivos.\n",
        "\n",
        "    Returns:\n",
        "    Um dicionário onde as chaves são os nomes dos arquivos e os valores são seus caminhos completos.\n",
        "    \"\"\"\n",
        "    file_paths = {}\n",
        "    for dirpath, dirnames, filenames in os.walk(root_dir):\n",
        "        for filename in filenames:\n",
        "            file_paths[filename.replace(\".csv\",\"\")] = os.path.join(dirpath, filename)\n",
        "    return file_paths\n",
        "\n",
        "file_dict = create_file_path_dictionary(\"/content/drive/MyDrive/projeto_dados/bronze\")\n",
        "file_dict"
      ],
      "metadata": {
        "colab": {
          "base_uri": "https://localhost:8080/"
        },
        "id": "KwcT1Vdzod70",
        "outputId": "ce0400ee-443f-4945-b64d-b8c735a49398"
      },
      "execution_count": null,
      "outputs": [
        {
          "output_type": "execute_result",
          "data": {
            "text/plain": [
              "{'reportes_2011_2021': '/content/drive/MyDrive/projeto_dados/bronze/reportes/reportes_2011_2021.csv',\n",
              " 'reportes_especies_2011_2021': '/content/drive/MyDrive/projeto_dados/bronze/especies/reportes_especies_2011_2021.csv',\n",
              " 'aerodromosprivados': '/content/drive/MyDrive/projeto_dados/bronze/aerodromos/aerodromosprivados.csv',\n",
              " 'aerodromospublicos': '/content/drive/MyDrive/projeto_dados/bronze/aerodromos/aerodromospublicos.csv',\n",
              " 'utc': '/content/drive/MyDrive/projeto_dados/bronze/utc/utc.csv'}"
            ]
          },
          "metadata": {},
          "execution_count": 76
        }
      ]
    },
    {
      "cell_type": "markdown",
      "source": [
        "### Camada Prata"
      ],
      "metadata": {
        "id": "-kf3Kpipui7o"
      }
    },
    {
      "cell_type": "code",
      "source": [
        "class Raw_to_refined():\n",
        "    \"\"\"\n",
        "    Classe responsável pelo processamento de dados da camada Bronze para a camada Prata (Raw to Refined).\n",
        "\n",
        "    Métodos:\n",
        "        - clean_columns_name(df): Padroniza os nomes das colunas, removendo acentos e substituindo espaços por \"_\".\n",
        "        - clean_data(df): Aplica tratamentos gerais aos dados (pode ser customizado).\n",
        "        - data_types(df, schema): Converte os tipos das colunas com base no schema fornecido.\n",
        "        - verify_dup(df, id_column): Verifica a existência de registros duplicados com base em uma coluna identificadora.\n",
        "        - create_view(df, tempview_name): Cria uma temporary view do DataFrame para consultas SQL.\n",
        "    \"\"\"\n",
        "\n",
        "    def __init__(self):\n",
        "        \"\"\"Inicializa a classe Raw_to_refined.\"\"\"\n",
        "        pass\n",
        "\n",
        "    def clean_columns_name(self, df: DataFrame) -> DataFrame:\n",
        "        \"\"\"\n",
        "        Padroniza os nomes das colunas:\n",
        "            - Remove acentos\n",
        "            - Substitui espaços por \"_\"\n",
        "            - Converte para minúsculas\n",
        "\n",
        "        Parâmetros:\n",
        "            df (DataFrame): DataFrame do PySpark com os dados a serem processados.\n",
        "\n",
        "        Retorno:\n",
        "            DataFrame: DataFrame com colunas renomeadas.\n",
        "        \"\"\"\n",
        "        for colunas in df.columns:\n",
        "            df = df.withColumnRenamed(colunas, unidecode(colunas.replace(' ', '_')).lower())\n",
        "        return df\n",
        "\n",
        "    def clean_data(self, df: DataFrame) -> DataFrame:\n",
        "        \"\"\"\n",
        "        Aplica tratamentos gerais nos dados.\n",
        "\n",
        "        Parâmetros:\n",
        "            df (DataFrame): DataFrame do PySpark com os dados brutos.\n",
        "\n",
        "        Retorno:\n",
        "            DataFrame: DataFrame processado.\n",
        "        \"\"\"\n",
        "        return df  # Pode ser expandido conforme necessidade\n",
        "\n",
        "    def data_types(self, df: DataFrame, schema: StructType) -> DataFrame:\n",
        "        \"\"\"\n",
        "        Converte os tipos das colunas do DataFrame com base no schema fornecido.\n",
        "\n",
        "        Parâmetros:\n",
        "            df (DataFrame): DataFrame do PySpark com os dados.\n",
        "            schema (StructType): Schema contendo os tipos corretos para cada coluna.\n",
        "\n",
        "        Retorno:\n",
        "            DataFrame: DataFrame com as colunas convertidas para os tipos especificados no schema.\n",
        "        \"\"\"\n",
        "        for field in schema.fields:\n",
        "            df = df.withColumn(field.name, F.col(field.name).cast(field.dataType))\n",
        "        return df\n",
        "\n",
        "    def verify_dup(self, df: DataFrame, id_column: str) -> None:\n",
        "        \"\"\"\n",
        "        Verifica se há registros duplicados com base em uma coluna identificadora.\n",
        "\n",
        "        Parâmetros:\n",
        "            df (DataFrame): DataFrame do PySpark com os dados.\n",
        "            id_column (str): Nome da coluna que será usada para verificar duplicatas.\n",
        "\n",
        "        Retorno:\n",
        "            None: Apenas imprime se há ou não dados duplicados.\n",
        "        \"\"\"\n",
        "        if df.count() != df.select(id_column).distinct().count():\n",
        "            print(\"Tem dados duplicados\")\n",
        "        else:\n",
        "            print(\"Não tem dados duplicados\")\n",
        "\n",
        "    def create_view(self, df: DataFrame, tempview_name: str) -> None:\n",
        "        \"\"\"\n",
        "        Cria uma temporary view do DataFrame para permitir consultas SQL.\n",
        "\n",
        "        Parâmetros:\n",
        "            df (DataFrame): DataFrame do PySpark que será transformado em view temporária.\n",
        "            tempview_name (str): Nome da temporary view.\n",
        "\n",
        "        Retorno:\n",
        "            None: Apenas cria a view temporária no Spark.\n",
        "        \"\"\"\n",
        "        df.createOrReplaceTempView(tempview_name)\n",
        "\n"
      ],
      "metadata": {
        "id": "QrhFex2k_6Et"
      },
      "execution_count": null,
      "outputs": []
    },
    {
      "cell_type": "markdown",
      "source": [
        "#### Especies"
      ],
      "metadata": {
        "id": "0xoa-S3Lp5sj"
      }
    },
    {
      "cell_type": "code",
      "source": [
        "## Lendo a tabela com o spark read csv\n",
        "especies = spark.read.csv(file_dict['reportes_especies_2011_2021'],sep=',',header=True)"
      ],
      "metadata": {
        "id": "WlB8B4aatbON"
      },
      "execution_count": null,
      "outputs": []
    },
    {
      "cell_type": "code",
      "source": [
        "especies.show(truncate=False)"
      ],
      "metadata": {
        "colab": {
          "base_uri": "https://localhost:8080/"
        },
        "id": "fUhr2B-3sgTs",
        "outputId": "eae5fcce-1ca7-4590-888a-3e4efbd35c7c"
      },
      "execution_count": null,
      "outputs": [
        {
          "output_type": "stream",
          "name": "stdout",
          "text": [
            "+--------------+------------+--------------------+--------+-----------+-------+-------+--------+--------+---------+----------------------------------------------------+-----------------------------------------------------+---------+\n",
            "|cod_va_especie|cod_cenipa15|cod_cenipa15_especie|coletada|fotografada|enviada|amostra|avistada|atingida|tamanho.x|nome_pt                                             |nome_en                                              |tamanho.y|\n",
            "+--------------+------------+--------------------+--------+-----------+-------+-------+--------+--------+---------+----------------------------------------------------+-----------------------------------------------------+---------+\n",
            "|1             |24513       |311                 |NA      |NA         |NA     |NA     |11-50   |NA      |MG       |Urubu-de-cabeça-preta/corvo/apitã (Coragyps atratus)|Black Vulture (Coragyps atratus)                     |MG       |\n",
            "|3             |25121       |447                 |NA      |NA         |NA     |NA     |11-50   |NA      |M        |Garça-vaqueira/cunacoi/boiadeira (Bubulcus ibis)    |Cattle Egret (Bubulcus ibis)                         |M        |\n",
            "|5             |24503       |101                 |NA      |NA         |NA     |NA     |NA      |NA      |MP       |Gaviões / Família accipitridae                      |Hawks & Kites  (Famíly accipitridae)                 |P        |\n",
            "|7             |24995       |383                 |NA      |Sim        |Sim    |NA     |NA      |1       |M        |Quero-quero/tetéu (Vanellus chilensis)              |Southern Lapwing (Vanellus chilensis)                |M        |\n",
            "|9             |24873       |7                   |NA      |NA         |NA     |NA     |2-10    |NA      |MG       |Urubus / Família Cathartidae                        |Vultures / Cathartidae Family                        |MG       |\n",
            "|11            |23699       |443                 |NA      |NA         |NA     |NA     |1       |1       |MP       |0 Não identificada                                  |0 Unknown                                            |M        |\n",
            "|17            |24547       |311                 |NA      |NA         |NA     |NA     |1       |1       |MG       |Urubu-de-cabeça-preta/corvo/apitã (Coragyps atratus)|Black Vulture (Coragyps atratus)                     |MG       |\n",
            "|19            |24357       |359                 |NA      |NA         |NA     |NA     |2-10    |NA      |G        |Carcará/carancho (Caracara plancus)                 |Southern Caracara (Caracara plancus)                 |G        |\n",
            "|21            |24553       |291                 |NA      |NA         |NA     |NA     |1       |1       |MP       |xx Passeriformes pequenos                           |xx Small Passerines                                  |MP       |\n",
            "|23            |24505       |311                 |NA      |NA         |NA     |NA     |11-50   |NA      |MG       |Urubu-de-cabeça-preta/corvo/apitã (Coragyps atratus)|Black Vulture (Coragyps atratus)                     |MG       |\n",
            "|25            |23607       |323                 |NA      |NA         |NA     |NA     |2-10    |NA      |MG       |Urubu-da-mata (Cathartes melambrotus)               |Greater Yellow-headed Vulture (Cathartes melambrotus)|MG       |\n",
            "|27            |23605       |413                 |NA      |NA         |NA     |NA     |2-10    |NA      |MG       |xx Outros (cachorro doméstico) > 1,5 kg             |xx Others (domestic dog) > 1.5 kg                    |MG       |\n",
            "|29            |24383       |413                 |NA      |NA         |NA     |NA     |1       |NA      |MG       |xx Outros (cachorro doméstico) > 1,5 kg             |xx Others (domestic dog) > 1.5 kg                    |MG       |\n",
            "|31            |24247       |415                 |NA      |NA         |NA     |NA     |2-10    |NA      |MG       |xx Outros (mamíferos > 1,5 kg)                      |xx Others (mammals > 1.5 kg)                         |MG       |\n",
            "|33            |24941       |359                 |Sim     |Sim        |NA     |NA     |NA      |1       |G        |Carcará/carancho (Caracara plancus)                 |Southern Caracara (Caracara plancus)                 |G        |\n",
            "|35            |24939       |359                 |Sim     |Sim        |NA     |NA     |NA      |1       |G        |Carcará/carancho (Caracara plancus)                 |Southern Caracara (Caracara plancus)                 |G        |\n",
            "|37            |23789       |359                 |NA      |NA         |NA     |NA     |11-50   |NA      |G        |Carcará/carancho (Caracara plancus)                 |Southern Caracara (Caracara plancus)                 |G        |\n",
            "|39            |25173       |413                 |NA      |NA         |NA     |NA     |1       |NA      |MG       |xx Outros (cachorro doméstico) > 1,5 kg             |xx Others (domestic dog) > 1.5 kg                    |MG       |\n",
            "|41            |23649       |409                 |NA      |NA         |NA     |NA     |1       |NA      |MG       |xx Outros (cachorro selvagem) > 1,5 kg              |xx Others (wild dog) >1.5 kg                         |MG       |\n",
            "|43            |24425       |343                 |NA      |Sim        |NA     |NA     |NA      |1       |P        |Bem- te-vis / Família Tyrannidae                    |Kiskadees/Flycatchers / Family Tyrannidae            |MP       |\n",
            "+--------------+------------+--------------------+--------+-----------+-------+-------+--------+--------+---------+----------------------------------------------------+-----------------------------------------------------+---------+\n",
            "only showing top 20 rows\n",
            "\n"
          ]
        }
      ]
    },
    {
      "cell_type": "code",
      "source": [
        "class raw_to_refined_especies(Raw_to_refined):\n",
        "    def __init__(self):\n",
        "        pass\n",
        "\n",
        "    def clean_data(self,df):\n",
        "        df = df.withColumn(\"nome_pt\",F.regexp_replace(F.split(F.col(\"nome_pt\"), \"/\").getItem(0), r\"\\s*\\(.*?\\)\", \"\"))\n",
        "        df = df.withColumn(\n",
        "            \"nome_pt\",\n",
        "            F.when(\n",
        "                F.col(\"nome_pt\").contains(\"Outros\"),\n",
        "                F.regexp_extract(F.col(\"nome_pt\"), r\"Outros\", 0)\n",
        "            ).when(\n",
        "                F.col(\"nome_pt\").contains(\"Não identificada\"),\n",
        "                F.regexp_extract(F.col(\"nome_pt\"), r\"Não identificada\", 0)\n",
        "            ).otherwise(F.col(\"nome_pt\"))\n",
        "        )\n",
        "\n",
        "        df = df.withColumn(\"nome_pt\",F.regexp_replace(F.col(\"nome_pt\"), r\"^xx\\s+\", \"\"))\n",
        "        return df"
      ],
      "metadata": {
        "id": "jeEVhUpmg9fU"
      },
      "execution_count": null,
      "outputs": []
    },
    {
      "cell_type": "code",
      "source": [
        "transform_especies = raw_to_refined_especies()"
      ],
      "metadata": {
        "id": "XHqleTc7hZxW"
      },
      "execution_count": null,
      "outputs": []
    },
    {
      "cell_type": "code",
      "source": [
        "df = transform_especies.clean_columns_name(especies)\n",
        "df = transform_especies.clean_data(df)"
      ],
      "metadata": {
        "id": "IxnOUenuhcWI"
      },
      "execution_count": null,
      "outputs": []
    },
    {
      "cell_type": "code",
      "source": [
        "df.printSchema()"
      ],
      "metadata": {
        "colab": {
          "base_uri": "https://localhost:8080/"
        },
        "id": "G9nojsmdlgAX",
        "outputId": "15b71c50-780e-440a-a257-00861508898b"
      },
      "execution_count": null,
      "outputs": [
        {
          "output_type": "stream",
          "name": "stdout",
          "text": [
            "root\n",
            " |-- cod_va_especie: string (nullable = true)\n",
            " |-- cod_cenipa15: string (nullable = true)\n",
            " |-- cod_cenipa15_especie: string (nullable = true)\n",
            " |-- coletada: string (nullable = true)\n",
            " |-- fotografada: string (nullable = true)\n",
            " |-- enviada: string (nullable = true)\n",
            " |-- amostra: string (nullable = true)\n",
            " |-- avistada: string (nullable = true)\n",
            " |-- atingida: string (nullable = true)\n",
            " |-- tamanho.x: string (nullable = true)\n",
            " |-- nome_pt: string (nullable = true)\n",
            " |-- nome_en: string (nullable = true)\n",
            " |-- tamanho.y: string (nullable = true)\n",
            "\n"
          ]
        }
      ]
    },
    {
      "cell_type": "code",
      "source": [
        "df.show(truncate=False)"
      ],
      "metadata": {
        "colab": {
          "base_uri": "https://localhost:8080/"
        },
        "id": "RtqvYetTs7I6",
        "outputId": "ca0287ed-a084-4d82-d6ec-8146e35a24ae"
      },
      "execution_count": null,
      "outputs": [
        {
          "output_type": "stream",
          "name": "stdout",
          "text": [
            "+--------------+------------+--------------------+--------+-----------+-------+-------+--------+--------+---------+----------------------+-----------------------------------------------------+---------+\n",
            "|cod_va_especie|cod_cenipa15|cod_cenipa15_especie|coletada|fotografada|enviada|amostra|avistada|atingida|tamanho.x|nome_pt               |nome_en                                              |tamanho.y|\n",
            "+--------------+------------+--------------------+--------+-----------+-------+-------+--------+--------+---------+----------------------+-----------------------------------------------------+---------+\n",
            "|1             |24513       |311                 |NA      |NA         |NA     |NA     |11-50   |NA      |MG       |Urubu-de-cabeça-preta |Black Vulture (Coragyps atratus)                     |MG       |\n",
            "|3             |25121       |447                 |NA      |NA         |NA     |NA     |11-50   |NA      |M        |Garça-vaqueira        |Cattle Egret (Bubulcus ibis)                         |M        |\n",
            "|5             |24503       |101                 |NA      |NA         |NA     |NA     |NA      |NA      |MP       |Gaviões               |Hawks & Kites  (Famíly accipitridae)                 |P        |\n",
            "|7             |24995       |383                 |NA      |Sim        |Sim    |NA     |NA      |1       |M        |Quero-quero           |Southern Lapwing (Vanellus chilensis)                |M        |\n",
            "|9             |24873       |7                   |NA      |NA         |NA     |NA     |2-10    |NA      |MG       |Urubus                |Vultures / Cathartidae Family                        |MG       |\n",
            "|11            |23699       |443                 |NA      |NA         |NA     |NA     |1       |1       |MP       |Não identificada      |0 Unknown                                            |M        |\n",
            "|17            |24547       |311                 |NA      |NA         |NA     |NA     |1       |1       |MG       |Urubu-de-cabeça-preta |Black Vulture (Coragyps atratus)                     |MG       |\n",
            "|19            |24357       |359                 |NA      |NA         |NA     |NA     |2-10    |NA      |G        |Carcará               |Southern Caracara (Caracara plancus)                 |G        |\n",
            "|21            |24553       |291                 |NA      |NA         |NA     |NA     |1       |1       |MP       |Passeriformes pequenos|xx Small Passerines                                  |MP       |\n",
            "|23            |24505       |311                 |NA      |NA         |NA     |NA     |11-50   |NA      |MG       |Urubu-de-cabeça-preta |Black Vulture (Coragyps atratus)                     |MG       |\n",
            "|25            |23607       |323                 |NA      |NA         |NA     |NA     |2-10    |NA      |MG       |Urubu-da-mata         |Greater Yellow-headed Vulture (Cathartes melambrotus)|MG       |\n",
            "|27            |23605       |413                 |NA      |NA         |NA     |NA     |2-10    |NA      |MG       |Outros                |xx Others (domestic dog) > 1.5 kg                    |MG       |\n",
            "|29            |24383       |413                 |NA      |NA         |NA     |NA     |1       |NA      |MG       |Outros                |xx Others (domestic dog) > 1.5 kg                    |MG       |\n",
            "|31            |24247       |415                 |NA      |NA         |NA     |NA     |2-10    |NA      |MG       |Outros                |xx Others (mammals > 1.5 kg)                         |MG       |\n",
            "|33            |24941       |359                 |Sim     |Sim        |NA     |NA     |NA      |1       |G        |Carcará               |Southern Caracara (Caracara plancus)                 |G        |\n",
            "|35            |24939       |359                 |Sim     |Sim        |NA     |NA     |NA      |1       |G        |Carcará               |Southern Caracara (Caracara plancus)                 |G        |\n",
            "|37            |23789       |359                 |NA      |NA         |NA     |NA     |11-50   |NA      |G        |Carcará               |Southern Caracara (Caracara plancus)                 |G        |\n",
            "|39            |25173       |413                 |NA      |NA         |NA     |NA     |1       |NA      |MG       |Outros                |xx Others (domestic dog) > 1.5 kg                    |MG       |\n",
            "|41            |23649       |409                 |NA      |NA         |NA     |NA     |1       |NA      |MG       |Outros                |xx Others (wild dog) >1.5 kg                         |MG       |\n",
            "|43            |24425       |343                 |NA      |Sim        |NA     |NA     |NA      |1       |P        |Bem- te-vis           |Kiskadees/Flycatchers / Family Tyrannidae            |MP       |\n",
            "+--------------+------------+--------------------+--------+-----------+-------+-------+--------+--------+---------+----------------------+-----------------------------------------------------+---------+\n",
            "only showing top 20 rows\n",
            "\n"
          ]
        }
      ]
    },
    {
      "cell_type": "code",
      "source": [
        "transform_especies.verify_dup(df, 'cod_va_especie')"
      ],
      "metadata": {
        "colab": {
          "base_uri": "https://localhost:8080/"
        },
        "id": "lRhWUfQjlc2p",
        "outputId": "ab5ca151-4e11-4af4-b215-f7575659924e"
      },
      "execution_count": null,
      "outputs": [
        {
          "output_type": "stream",
          "name": "stdout",
          "text": [
            "Não tem dados duplicados\n"
          ]
        }
      ]
    },
    {
      "cell_type": "code",
      "source": [
        "df = df.select(\"cod_va_especie\",\"cod_cenipa15\",\"nome_pt\")"
      ],
      "metadata": {
        "id": "Ou5erDHsloyY"
      },
      "execution_count": null,
      "outputs": []
    },
    {
      "cell_type": "code",
      "source": [
        "df.write.mode('overwrite').format('parquet').save('/content/drive/MyDrive/projeto_dados/prata/especies')"
      ],
      "metadata": {
        "id": "URDddMcDlSSa"
      },
      "execution_count": null,
      "outputs": []
    },
    {
      "cell_type": "markdown",
      "source": [
        "#### Reportes"
      ],
      "metadata": {
        "id": "WLJPOfrwp_Ok"
      }
    },
    {
      "cell_type": "code",
      "source": [
        "class raw_to_refined_reports(Raw_to_refined):\n",
        "    def __init__(self):\n",
        "        pass\n",
        "\n",
        "    def clean_data(self,df):\n",
        "        df = df.withColumn(\"hora_local\", F.date_format(\"hora_local\", \"HH:mm:ss\"))\n",
        "        df = df.withColumn(\"data\", F.to_date(df[\"data\"], \"dd/MM/yyyy\"))\n",
        "        df = df.withColumn(\"icao\", F.upper(F.regexp_replace(\"icao\", r\"[^A-Za-z0-9].*\", \"\")))\n",
        "\n",
        "        df = df.select(\"codigo_reporte\",\"classificacao_ocorrencia\",\"tipo_reporte\",\"data\",\"hora_local\",\"icao\",\"fase_voo\",\"efeito_no_voo\")\n",
        "        return df"
      ],
      "metadata": {
        "id": "HPxpPZQeePMD"
      },
      "execution_count": null,
      "outputs": []
    },
    {
      "cell_type": "code",
      "source": [
        "reportes = spark.read.csv(file_dict['reportes_2011_2021'],sep=';',header=True)"
      ],
      "metadata": {
        "id": "TXc9Q1D9tbt2"
      },
      "execution_count": null,
      "outputs": []
    },
    {
      "cell_type": "code",
      "source": [
        "transform = raw_to_refined_reports()"
      ],
      "metadata": {
        "id": "dVl_1lbHGARg"
      },
      "execution_count": null,
      "outputs": []
    },
    {
      "cell_type": "code",
      "source": [
        "reportes.show(truncate=False)"
      ],
      "metadata": {
        "colab": {
          "base_uri": "https://localhost:8080/"
        },
        "id": "rAw93qq5tt0c",
        "outputId": "986f4234-0e4b-402f-f5b1-356105864769"
      },
      "execution_count": null,
      "outputs": [
        {
          "output_type": "stream",
          "name": "stdout",
          "text": [
            "+--------------+------------------------+-------------+-------------+----------+------------------------+------------------------+---------------------------------+------------+------------------------+------------------------+----------+-----------+----+-----+----+----------------------------+-----------------+------+----------+----------------+-------------------------------+---------------+----------------------------+------------+---------------+---------------+---------------+\n",
            "|codigo_reporte|classificacao_ocorrencia|tipo_reporte |matricula_anv|data      |operador                |fabricante_anv          |modelo_anv                       |aviaco_tipo |fabricante_motor        |modelo_motor            |hora_local|periodo_dia|icao|pista|lado|Area_Seguranca_Aeroportuaria|coordenada_radial|altura|velocidade|fase_voo        |Efeito_no_voo                  |condicao_do_ceu|visibilidade                |precipitacao|Danos_Prejuizos|Aeronave_Indisp|Piloto_alertado|\n",
            "+--------------+------------------------+-------------+-------------+----------+------------------------+------------------------+---------------------------------+------------+------------------------+------------------------+----------+-----------+----+-----+----+----------------------------+-----------------+------+----------+----------------+-------------------------------+---------------+----------------------------+------------+---------------+---------------+---------------+\n",
            "|197           |Incidente               |colisão      |PRWJV        |27/02/2011|WEBJET                  |Boeing                  |0 Desconhecido (UNKNOWN)         |Regular     |General Electric        |0 Desconhecido (UNKNOWN)|16:00     |Dia        |SBRP|18   |NULL|Sim                         |0/0              |0     |120       |decolagem       |Decolagem abortada             |Claro          |visibilidade entre 5 e 10 Km|NULL        |Sim            |NULL           |NULL           |\n",
            "|198           |Incidente               |colisão      |4808         |24/01/2011|1GAv14 Pampa            |Northrop                |F5EM/FM                          |FAB         |General Electric        |J85                     |18:40     |Crepúsculo |SBCO|12   |NULL|Sim                         |0/0              |0     |120       |decolagem       |Decolagem abortada             |Claro          |visibilidade entre 5 e 10 Km|NULL        |Não            |NULL           |S              |\n",
            "|199           |Incidente               |colisão      |4859         |24/01/2011|1GAv14 Pampa            |Northrop                |F5EM/FM                          |FAB         |General Electric        |J85                     |19:25     |Noite      |SBCO|12   |NULL|Sim                         |0/0              |0     |90        |pouso           |Nenhum                         |Claro          |visibilidade entre 5 e 10 Km|NULL        |Não            |NULL           |S              |\n",
            "|201           |Incidente               |colisão      |PTWOR        |08/04/2011|Tocantins               |Piper                   |PA 42/PAY 3/4 Cheyenne 1/2       |Geral       |0 Desconhecido (UNKNOWN)|0 Desconhecido (UNKNOWN)|14:29     |Dia        |SBSL|6    |NULL|Sim                         |240/3            |1000  |110       |aproximação     |Nenhum                         |Poucas nuvens  |visibilidade entre 5 e 10 Km|NULL        |Não            |0              |NULL           |\n",
            "|205           |Incidente               |colisão      |5540         |11/02/2011|1GAv10 Poker            |Embraer                 |AMX/A1/RA1                       |FAB         |Rolls Royce             |RB807 Spey              |11:02     |Dia        |SBUG|9    |NULL|Não                         |110/50           |300   |420       |NBA             |Nenhum                         |Claro          |visibilidade entre 5 e 10 Km|Nenhuma     |Sim            |420            |NULL           |\n",
            "|209           |Incidente               |colisão      |PRVBW        |28/04/2011|GOL - Varig             |Boeing                  |B 737 Familia (Family Boeing 737)|Regular     |0 Desconhecido (UNKNOWN)|0 Desconhecido (UNKNOWN)|16:14     |Dia        |SBIL|11   |NULL|Sim                         |0/0              |0     |100       |decolagem       |Nenhum                         |Poucas nuvens  |visibilidade entre 5 e 10 Km|Nenhuma     |Não            |NULL           |NULL           |\n",
            "|212           |Ocorrência Anormal      |avistamento  |PRVBC        |03/05/2011|GOL - Varig             |Boeing                  |B 737 Familia (Family Boeing 737)|Regular     |General Electric        |0 Desconhecido (UNKNOWN)|05:28     |Alvorada   |SBJP|16   |NULL|Sim                         |0/0              |0     |0         |táxi            |Nenhum                         |Claro          |visibilidade menor que 5 Km |Nenhuma     |Não            |NULL           |S              |\n",
            "|213           |Incidente               |colisão      |NULL         |03/05/2011|0 Desconhecido (UNKNOWN)|0 Desconhecido (UNKNOWN)|0 Desconhecido (UNKNOWN)         |Desconhecido|0 Desconhecido (UNKNOWN)|0 Desconhecido (UNKNOWN)|06:09     |Dia        |SBSV|10   |NULL|Sim                         |0/0              |0     |0         |Revisão de pista|Não reportada                  |Claro          |NULL                        |Nenhuma     |Indeterminado  |NULL           |NULL           |\n",
            "|214           |Incidente               |colisão      |PTVKA        |13/04/2011|No Limits Táxi Aéreo    |Embraer                 |E810/820/821/PA31/34/U7 Seneca   |Geral       |Pratt & Whitney         |PT6A-34                 |07:00     |Dia        |SBCY|35   |NULL|Sim                         |0/0              |30    |100       |decolagem       |Nenhum                         |Claro          |visibilidade entre 5 e 10 Km|NULL        |Sim            |2              |NULL           |\n",
            "|215           |Incidente               |colisão      |PTOHK        |09/04/2011|Sete                    |Mitsubishi              |MU 2                             |Geral       |0 Desconhecido (UNKNOWN)|0 Desconhecido (UNKNOWN)|02:03     |Noite      |SBPJ|14   |NULL|Sim                         |0/0              |0     |100       |decolagem       |Nenhum                         |Poucas nuvens  |visibilidade entre 5 e 10 Km|NULL        |Não            |NULL           |NULL           |\n",
            "|217           |Incidente               |colisão      |2337         |03/05/2011|6ETA Guará              |Embraer                 |E110/111/C/P/R/SC95              |FAB         |Pratt & Whitney         |PT6A-34                 |16:45     |Dia        |SNAG|23   |NULL|Sim                         |0/0              |50    |100       |pouso           |Nenhum                         |Claro          |visibilidade entre 5 e 10 Km|NULL        |Não            |0              |NULL           |\n",
            "|218           |Ocorrência Anormal      |quase colisão|8764         |29/04/2011|1GAv11 Gavião           |Helibrás - Eurocopter   |0 Desconhecido (UNKNOWN)         |FAB         |Turbomeca               |0 Desconhecido (UNKNOWN)|15:00     |Dia        |SBNT|12   |NULL|Sim                         |0/0              |500   |80        |aproximação     |Nenhum                         |Poucas nuvens  |visibilidade entre 5 e 10 Km|NULL        |Não            |NULL           |S              |\n",
            "|219           |Ocorrência Anormal      |quase colisão|PPMAH        |04/05/2011|Líder                   |Sikorsky                |S/K 76                           |Geral       |Rolls Royce             |0 Desconhecido (UNKNOWN)|08:52     |Dia        |SBVT|23   |NULL|Sim                         |0/0              |300   |60        |aproximação     |Desestabilização na aproximação|Claro          |NULL                        |NULL        |Não            |NULL           |NULL           |\n",
            "|220           |Incidente               |colisão      |PRAZT        |26/03/2011|Azul                    |Embraer                 |E190/195/VC2                     |Regular     |0 Desconhecido (UNKNOWN)|0 Desconhecido (UNKNOWN)|10:36     |Dia        |SBSR|7    |NULL|Sim                         |0/0              |0     |100       |pouso           |Nenhum                         |Claro          |visibilidade entre 5 e 10 Km|Nenhuma     |Não            |NULL           |NULL           |\n",
            "|221           |Ocorrência Anormal      |avistamento  |NULL         |24/02/2011|1BAvEx                  |0 Desconhecido (UNKNOWN)|0 Desconhecido (UNKNOWN)         |Exército    |0 Desconhecido (UNKNOWN)|0 Desconhecido (UNKNOWN)|13:00     |Dia        |SBSP|17   |R   |Sim                         |0/0              |0     |0         |pouso           |Nenhum                         |Poucas nuvens  |NULL                        |NULL        |Não            |NULL           |NULL           |\n",
            "|222           |Ocorrência Anormal      |avistamento  |NULL         |01/05/2011|0 Desconhecido (UNKNOWN)|0 Desconhecido (UNKNOWN)|0 Desconhecido (UNKNOWN)         |NULL        |0 Desconhecido (UNKNOWN)|0 Desconhecido (UNKNOWN)|10:30     |Dia        |SBLO|31   |NULL|Sim                         |0/0              |0     |0         |Revisão de pista|Nenhum                         |Claro          |NULL                        |NULL        |Não            |NULL           |NULL           |\n",
            "|224           |Incidente               |colisão      |NULL         |05/05/2011|0 Desconhecido (UNKNOWN)|0 Desconhecido (UNKNOWN)|0 Desconhecido (UNKNOWN)         |Desconhecido|0 Desconhecido (UNKNOWN)|0 Desconhecido (UNKNOWN)|09:00     |Dia        |SBLO|13   |NULL|Sim                         |0/0              |0     |0         |Revisão de pista|Nenhum                         |Claro          |NULL                        |Nenhuma     |Não            |NULL           |NULL           |\n",
            "|225           |Incidente               |colisão      |NULL         |05/05/2011|0 Desconhecido (UNKNOWN)|0 Desconhecido (UNKNOWN)|0 Desconhecido (UNKNOWN)         |Geral       |0 Desconhecido (UNKNOWN)|0 Desconhecido (UNKNOWN)|09:20     |Dia        |SBUR|17   |NULL|Sim                         |0/0              |0     |0         |Revisão de pista|Não reportada                  |Claro          |NULL                        |NULL        |Indeterminado  |NULL           |NULL           |\n",
            "|226           |Incidente               |colisão      |2294         |25/04/2011|1GAv5 Rumba             |Embraer                 |E110/111/C/P/R/SC95              |FAB         |Pratt & Whitney         |PT6A-34                 |18:25     |Noite      |SBFZ|13   |NULL|Sim                         |0/0              |150   |100       |pouso           |Decolagem abortada             |Claro          |visibilidade menor que 5 Km |NULL        |Não            |1              |NULL           |\n",
            "|228           |Ocorrência Anormal      |avistamento  |NULL         |06/05/2011|0 Desconhecido (UNKNOWN)|0 Desconhecido (UNKNOWN)|0 Desconhecido (UNKNOWN)         |NULL        |0 Desconhecido (UNKNOWN)|0 Desconhecido (UNKNOWN)|08:30     |Dia        |SBPP|21   |NULL|Sim                         |0/0              |0     |0         |Revisão de pista|Nenhum                         |Poucas nuvens  |NULL                        |NULL        |Não            |NULL           |NULL           |\n",
            "+--------------+------------------------+-------------+-------------+----------+------------------------+------------------------+---------------------------------+------------+------------------------+------------------------+----------+-----------+----+-----+----+----------------------------+-----------------+------+----------+----------------+-------------------------------+---------------+----------------------------+------------+---------------+---------------+---------------+\n",
            "only showing top 20 rows\n",
            "\n"
          ]
        }
      ]
    },
    {
      "cell_type": "code",
      "source": [
        "reportes.printSchema()"
      ],
      "metadata": {
        "colab": {
          "base_uri": "https://localhost:8080/"
        },
        "id": "V4i5wYdut37d",
        "outputId": "dc3c04bf-89c9-4d6b-92a9-4b322bb98c08"
      },
      "execution_count": null,
      "outputs": [
        {
          "output_type": "stream",
          "name": "stdout",
          "text": [
            "root\n",
            " |-- codigo_reporte: string (nullable = true)\n",
            " |-- classificacao_ocorrencia: string (nullable = true)\n",
            " |-- tipo_reporte: string (nullable = true)\n",
            " |-- matricula_anv: string (nullable = true)\n",
            " |-- data: string (nullable = true)\n",
            " |-- operador: string (nullable = true)\n",
            " |-- fabricante_anv: string (nullable = true)\n",
            " |-- modelo_anv: string (nullable = true)\n",
            " |-- aviaco_tipo: string (nullable = true)\n",
            " |-- fabricante_motor: string (nullable = true)\n",
            " |-- modelo_motor: string (nullable = true)\n",
            " |-- hora_local: string (nullable = true)\n",
            " |-- periodo_dia: string (nullable = true)\n",
            " |-- icao: string (nullable = true)\n",
            " |-- pista: string (nullable = true)\n",
            " |-- lado: string (nullable = true)\n",
            " |-- Area_Seguranca_Aeroportuaria: string (nullable = true)\n",
            " |-- coordenada_radial: string (nullable = true)\n",
            " |-- altura: string (nullable = true)\n",
            " |-- velocidade: string (nullable = true)\n",
            " |-- fase_voo: string (nullable = true)\n",
            " |-- Efeito_no_voo: string (nullable = true)\n",
            " |-- condicao_do_ceu: string (nullable = true)\n",
            " |-- visibilidade: string (nullable = true)\n",
            " |-- precipitacao: string (nullable = true)\n",
            " |-- Danos_Prejuizos: string (nullable = true)\n",
            " |-- Aeronave_Indisp: string (nullable = true)\n",
            " |-- Piloto_alertado: string (nullable = true)\n",
            "\n"
          ]
        }
      ]
    },
    {
      "cell_type": "code",
      "source": [
        "schema_reportes = StructType([\n",
        "    StructField(\"codigo_reporte\", StringType(), True),\n",
        "    StructField(\"classificacao_ocorrencia\", StringType(), True),\n",
        "    StructField(\"tipo_reporte\", StringType(), True),\n",
        "    StructField(\"data\", StringType(), True),\n",
        "    StructField(\"hora_local\", StringType(), True),\n",
        "    StructField(\"fase_voo\", StringType(), True),\n",
        "    StructField(\"efeito_no_voo\", StringType(), True),\n",
        "])\n",
        "\n",
        "reportes = transform.data_types(reportes, schema_reportes)\n",
        "reportes = transform.clean_data(reportes)"
      ],
      "metadata": {
        "id": "RQS976PsFaBR"
      },
      "execution_count": null,
      "outputs": []
    },
    {
      "cell_type": "code",
      "source": [
        "reportes.show(truncate=False)"
      ],
      "metadata": {
        "colab": {
          "base_uri": "https://localhost:8080/"
        },
        "id": "5DaOMswyGLSf",
        "outputId": "b1789c61-9add-46fc-e159-3129e0f267ae"
      },
      "execution_count": null,
      "outputs": [
        {
          "output_type": "stream",
          "name": "stdout",
          "text": [
            "+--------------+------------------------+-------------+----------+----------+----+----------------+-------------------------------+\n",
            "|codigo_reporte|classificacao_ocorrencia|tipo_reporte |data      |hora_local|icao|fase_voo        |efeito_no_voo                  |\n",
            "+--------------+------------------------+-------------+----------+----------+----+----------------+-------------------------------+\n",
            "|197           |Incidente               |colisão      |2011-02-27|16:00:00  |SBRP|decolagem       |Decolagem abortada             |\n",
            "|198           |Incidente               |colisão      |2011-01-24|18:40:00  |SBCO|decolagem       |Decolagem abortada             |\n",
            "|199           |Incidente               |colisão      |2011-01-24|19:25:00  |SBCO|pouso           |Nenhum                         |\n",
            "|201           |Incidente               |colisão      |2011-04-08|14:29:00  |SBSL|aproximação     |Nenhum                         |\n",
            "|205           |Incidente               |colisão      |2011-02-11|11:02:00  |SBUG|NBA             |Nenhum                         |\n",
            "|209           |Incidente               |colisão      |2011-04-28|16:14:00  |SBIL|decolagem       |Nenhum                         |\n",
            "|212           |Ocorrência Anormal      |avistamento  |2011-05-03|05:28:00  |SBJP|táxi            |Nenhum                         |\n",
            "|213           |Incidente               |colisão      |2011-05-03|06:09:00  |SBSV|Revisão de pista|Não reportada                  |\n",
            "|214           |Incidente               |colisão      |2011-04-13|07:00:00  |SBCY|decolagem       |Nenhum                         |\n",
            "|215           |Incidente               |colisão      |2011-04-09|02:03:00  |SBPJ|decolagem       |Nenhum                         |\n",
            "|217           |Incidente               |colisão      |2011-05-03|16:45:00  |SNAG|pouso           |Nenhum                         |\n",
            "|218           |Ocorrência Anormal      |quase colisão|2011-04-29|15:00:00  |SBNT|aproximação     |Nenhum                         |\n",
            "|219           |Ocorrência Anormal      |quase colisão|2011-05-04|08:52:00  |SBVT|aproximação     |Desestabilização na aproximação|\n",
            "|220           |Incidente               |colisão      |2011-03-26|10:36:00  |SBSR|pouso           |Nenhum                         |\n",
            "|221           |Ocorrência Anormal      |avistamento  |2011-02-24|13:00:00  |SBSP|pouso           |Nenhum                         |\n",
            "|222           |Ocorrência Anormal      |avistamento  |2011-05-01|10:30:00  |SBLO|Revisão de pista|Nenhum                         |\n",
            "|224           |Incidente               |colisão      |2011-05-05|09:00:00  |SBLO|Revisão de pista|Nenhum                         |\n",
            "|225           |Incidente               |colisão      |2011-05-05|09:20:00  |SBUR|Revisão de pista|Não reportada                  |\n",
            "|226           |Incidente               |colisão      |2011-04-25|18:25:00  |SBFZ|pouso           |Decolagem abortada             |\n",
            "|228           |Ocorrência Anormal      |avistamento  |2011-05-06|08:30:00  |SBPP|Revisão de pista|Nenhum                         |\n",
            "+--------------+------------------------+-------------+----------+----------+----+----------------+-------------------------------+\n",
            "only showing top 20 rows\n",
            "\n"
          ]
        }
      ]
    },
    {
      "cell_type": "code",
      "source": [
        "reportes.printSchema()"
      ],
      "metadata": {
        "colab": {
          "base_uri": "https://localhost:8080/"
        },
        "id": "0df7eUrbgEI1",
        "outputId": "750efab6-48ec-48d4-b5fe-948dac0795b2"
      },
      "execution_count": null,
      "outputs": [
        {
          "output_type": "stream",
          "name": "stdout",
          "text": [
            "root\n",
            " |-- codigo_reporte: string (nullable = true)\n",
            " |-- classificacao_ocorrencia: string (nullable = true)\n",
            " |-- tipo_reporte: string (nullable = true)\n",
            " |-- data: date (nullable = true)\n",
            " |-- hora_local: string (nullable = true)\n",
            " |-- icao: string (nullable = true)\n",
            " |-- fase_voo: string (nullable = true)\n",
            " |-- efeito_no_voo: string (nullable = true)\n",
            "\n"
          ]
        }
      ]
    },
    {
      "cell_type": "code",
      "source": [
        "reportes.write.mode('overwrite').format('parquet').save('/content/drive/MyDrive/projeto_dados/prata/reportes')"
      ],
      "metadata": {
        "id": "XsXJYZnq88A_"
      },
      "execution_count": null,
      "outputs": []
    },
    {
      "cell_type": "code",
      "source": [
        "import os\n",
        "\n",
        "def tamanho_pasta(caminho_pasta):\n",
        "    total_size = 0\n",
        "    for dirpath, dirnames, filenames in os.walk(caminho_pasta):\n",
        "        for f in filenames:\n",
        "            fp = os.path.join(dirpath, f)\n",
        "            if os.path.isfile(fp):\n",
        "                total_size += os.path.getsize(fp)\n",
        "    return total_size\n",
        "\n",
        "caminho = \"/content/drive/MyDrive/projeto_dados/bronze/reportes\"\n",
        "tamanho_bytes_bronze = tamanho_pasta(caminho)\n",
        "print(f\"Tamanho da pasta bronze: {tamanho_bytes_bronze / (1024 * 1024):.2f} MB\")  # Converte para MB\n",
        "\n",
        "caminho = \"/content/drive/MyDrive/projeto_dados/prata/reportes\"\n",
        "tamanho_bytes = tamanho_pasta(caminho)\n",
        "print(f\"Tamanho da pasta prata: {tamanho_bytes / (1024 * 1024):.2f} MB\")  # Converte para MB\n",
        "\n",
        "print(f\"A pasta prata corresponde a {(tamanho_bytes/tamanho_bytes_bronze)*100:.3}% da pasta bronze\")"
      ],
      "metadata": {
        "colab": {
          "base_uri": "https://localhost:8080/"
        },
        "id": "0EZSk9zp9K3p",
        "outputId": "daa4d481-dfac-463f-d4da-ffb88539f3ef"
      },
      "execution_count": null,
      "outputs": [
        {
          "output_type": "stream",
          "name": "stdout",
          "text": [
            "Tamanho da pasta bronze: 17.52 MB\n",
            "Tamanho da pasta prata: 0.72 MB\n",
            "A pasta prata corresponde a 4.13% da pasta bronze\n"
          ]
        }
      ]
    },
    {
      "cell_type": "markdown",
      "source": [
        "#### UTC"
      ],
      "metadata": {
        "id": "xw0CZSCi0MX8"
      }
    },
    {
      "cell_type": "code",
      "source": [
        "class raw_to_refined_utc(Raw_to_refined):\n",
        "    def __init__(self):\n",
        "        pass\n",
        "\n",
        "    def clean_data(self,df):\n",
        "        df = df.withColumn(\"utc\", F.regexp_extract(\"utc\", r\"([+-]?\\d+)\", 1).cast(\"integer\"))\n",
        "        df = df.withColumn(\"uf\", F.lower(df[\"uf\"]))\n",
        "        df = df.withColumn(\"estado\", F.lower(F.translate(df[\"estado\"], \"áéíóúãõâêîôûçÁÉÍÓÚÃÕÂÊÎÔÛÇ\", \"aeiouaoaeioucAEIOUAOAEIOUC\")))\n",
        "\n",
        "        df = df.select(\"uf\",\"estado\",\"utc\")\n",
        "\n",
        "        return df"
      ],
      "metadata": {
        "id": "4VPD7XZ60YwX"
      },
      "execution_count": null,
      "outputs": []
    },
    {
      "cell_type": "code",
      "source": [
        "utc = spark.read.csv(file_dict['utc'],sep=';',header=True)"
      ],
      "metadata": {
        "id": "VVSgwpfY0NW4"
      },
      "execution_count": null,
      "outputs": []
    },
    {
      "cell_type": "code",
      "source": [
        "utc.printSchema()"
      ],
      "metadata": {
        "colab": {
          "base_uri": "https://localhost:8080/"
        },
        "id": "gbW0mruk0QzA",
        "outputId": "26b5c879-c84f-4f20-9845-00492ea15141"
      },
      "execution_count": null,
      "outputs": [
        {
          "output_type": "stream",
          "name": "stdout",
          "text": [
            "root\n",
            " |-- uf: string (nullable = true)\n",
            " |-- estado: string (nullable = true)\n",
            " |-- utc: string (nullable = true)\n",
            "\n"
          ]
        }
      ]
    },
    {
      "cell_type": "code",
      "source": [
        "transform = raw_to_refined_utc()"
      ],
      "metadata": {
        "id": "VupuPE0P-6Ze"
      },
      "execution_count": null,
      "outputs": []
    },
    {
      "cell_type": "code",
      "source": [
        "utc = transform.clean_data(utc)"
      ],
      "metadata": {
        "id": "YnT7M1kL03R6"
      },
      "execution_count": null,
      "outputs": []
    },
    {
      "cell_type": "code",
      "source": [
        "utc.show(truncate=False)"
      ],
      "metadata": {
        "colab": {
          "base_uri": "https://localhost:8080/"
        },
        "id": "l4DHtNud0Q1O",
        "outputId": "31c0f50b-5168-41a1-9601-cf26b2b6309f"
      },
      "execution_count": null,
      "outputs": [
        {
          "output_type": "stream",
          "name": "stdout",
          "text": [
            "+---+-------------------+---+\n",
            "|uf |estado             |utc|\n",
            "+---+-------------------+---+\n",
            "|ac |acre               |-5 |\n",
            "|ap |amapa              |-3 |\n",
            "|al |alagoas            |-3 |\n",
            "|am |amazonas           |-4 |\n",
            "|ba |bahia              |-3 |\n",
            "|ce |ceara              |-3 |\n",
            "|es |espirito santo     |-3 |\n",
            "|go |goias              |-3 |\n",
            "|ma |maranhao           |-3 |\n",
            "|mt |mato grosso        |-4 |\n",
            "|ms |mato grosso do sul |-4 |\n",
            "|mg |minas gerais       |-3 |\n",
            "|pa |para               |-3 |\n",
            "|pb |paraiba            |-3 |\n",
            "|pr |parana             |-3 |\n",
            "|pe |pernambuco         |-3 |\n",
            "|pi |piaui              |-3 |\n",
            "|rj |rio de janeiro     |-3 |\n",
            "|rn |rio grande do norte|-3 |\n",
            "|rs |rio grande do sul  |-3 |\n",
            "+---+-------------------+---+\n",
            "only showing top 20 rows\n",
            "\n"
          ]
        }
      ]
    },
    {
      "cell_type": "code",
      "source": [
        "transform.create_view(utc,'utc')"
      ],
      "metadata": {
        "id": "rtz7tUCu0Q77"
      },
      "execution_count": null,
      "outputs": []
    },
    {
      "cell_type": "markdown",
      "source": [
        "#### Aerodromos"
      ],
      "metadata": {
        "id": "1ZQ9SUsmpyU6"
      }
    },
    {
      "cell_type": "code",
      "source": [
        "class raw_to_refined_aerodromo(Raw_to_refined):\n",
        "    def __init__(self):\n",
        "        pass\n",
        "\n",
        "    def clean_data(self,df):\n",
        "        df = df.withColumn('nome',F.lower(F.col('nome')))\n",
        "        df = df.withColumn('municipio',F.lower(F.col('municipio')))\n",
        "        df = df.withColumn(\"uf\", F.lower(F.translate(df[\"uf\"], \"áéíóúãõâêîôûçÁÉÍÓÚÃÕÂÊÎÔÛÇ\", \"aeiouaoaeioucAEIOUAOAEIOUC\")))\n",
        "        df = df.withColumn(\"codigo_oaci\", F.upper(F.col('codigo_oaci')))\n",
        "\n",
        "\n",
        "        df = df.withColumn('latgeopoint',F.regexp_replace(F.col('latgeopoint'), ',', '.'))\n",
        "        df = df.withColumn('longeopoint',F.regexp_replace(F.col('latgeopoint'), ',', '.'))\n",
        "\n",
        "        return df"
      ],
      "metadata": {
        "id": "koovjUapUIGk"
      },
      "execution_count": null,
      "outputs": []
    },
    {
      "cell_type": "markdown",
      "source": [
        "##### Aerodromo privado"
      ],
      "metadata": {
        "id": "mQ02cUvAeF4-"
      }
    },
    {
      "cell_type": "code",
      "source": [
        "aero_priv = spark.read.csv(file_dict['aerodromosprivados'],sep=';',header=True)"
      ],
      "metadata": {
        "id": "vN6RlwipqBfE"
      },
      "execution_count": null,
      "outputs": []
    },
    {
      "cell_type": "code",
      "source": [
        "transform = raw_to_refined_aerodromo()"
      ],
      "metadata": {
        "id": "gDPDGiLrP4ss"
      },
      "execution_count": null,
      "outputs": []
    },
    {
      "cell_type": "code",
      "source": [
        "df = transform.clean_columns_name(aero_priv)\n",
        "df = transform.clean_data(df)"
      ],
      "metadata": {
        "id": "prNjbJ59QHP3"
      },
      "execution_count": null,
      "outputs": []
    },
    {
      "cell_type": "code",
      "source": [
        "df.printSchema()"
      ],
      "metadata": {
        "colab": {
          "base_uri": "https://localhost:8080/"
        },
        "id": "3DMJMHEHQHS_",
        "outputId": "d21b72d9-c5b6-4ca5-8eed-269e59460e73"
      },
      "execution_count": null,
      "outputs": [
        {
          "output_type": "stream",
          "name": "stdout",
          "text": [
            "root\n",
            " |-- codigo_oaci: string (nullable = true)\n",
            " |-- ciad: string (nullable = true)\n",
            " |-- nome: string (nullable = true)\n",
            " |-- municipio: string (nullable = true)\n",
            " |-- uf: string (nullable = true)\n",
            " |-- longitude: string (nullable = true)\n",
            " |-- latitude: string (nullable = true)\n",
            " |-- altitude: string (nullable = true)\n",
            " |-- operacao_diurna: string (nullable = true)\n",
            " |-- operacao_noturna: string (nullable = true)\n",
            " |-- designacao_1: string (nullable = true)\n",
            " |-- comprimento_1: string (nullable = true)\n",
            " |-- largura_1: string (nullable = true)\n",
            " |-- resistencia_1: string (nullable = true)\n",
            " |-- superficie_1: string (nullable = true)\n",
            " |-- designacao_2: string (nullable = true)\n",
            " |-- comprimento_2: string (nullable = true)\n",
            " |-- largura_2: string (nullable = true)\n",
            " |-- resistencia_2: string (nullable = true)\n",
            " |-- superficie_2: string (nullable = true)\n",
            " |-- portaria_de_registro: string (nullable = true)\n",
            " |-- link_portaria: string (nullable = true)\n",
            " |-- latgeopoint: string (nullable = true)\n",
            " |-- longeopoint: string (nullable = true)\n",
            "\n"
          ]
        }
      ]
    },
    {
      "cell_type": "code",
      "source": [
        "schema_aero_priv = StructType([\n",
        "    StructField(\"codigo_oaci\", StringType(), True),\n",
        "    StructField(\"ciad\", StringType(), True),\n",
        "    StructField(\"nome\", StringType(), True),\n",
        "    StructField(\"municipio\", StringType(), True),\n",
        "    StructField(\"uf\", StringType(), True),\n",
        "    StructField(\"longitude\", StringType(), True),\n",
        "    StructField(\"latitude\", StringType(), True),\n",
        "    StructField(\"altitude\", StringType(), True),\n",
        "    StructField(\"operacao_diurna\", StringType(), True),\n",
        "    StructField(\"operacao_noturna\", StringType(), True),\n",
        "    StructField(\"designacao_1\", StringType(), True),\n",
        "    StructField(\"comprimento_1\", FloatType(), True),\n",
        "    StructField(\"largura_1\", FloatType(), True),\n",
        "    StructField(\"resistencia_1\", StringType(), True),\n",
        "    StructField(\"superficie_1\", StringType(), True),\n",
        "    StructField(\"designacao_2\", StringType(), True),\n",
        "    StructField(\"comprimento_2\", FloatType(), True),\n",
        "    StructField(\"largura_2\", FloatType(), True),\n",
        "    StructField(\"resistencia_2\", StringType(), True),\n",
        "    StructField(\"superficie_2\", StringType(), True),\n",
        "    StructField(\"portaria_de_registro\", StringType(), True),\n",
        "    StructField(\"link_portaria\", StringType(), True),\n",
        "    StructField(\"latgeopoint\", StringType(), True),\n",
        "    StructField(\"longeopoint\", StringType(), True)\n",
        "])\n",
        "\n",
        "df = transform.data_types(df, schema_aero_priv)\n"
      ],
      "metadata": {
        "id": "2UVgNajFNRY-"
      },
      "execution_count": null,
      "outputs": []
    },
    {
      "cell_type": "code",
      "source": [
        "df.printSchema()"
      ],
      "metadata": {
        "colab": {
          "base_uri": "https://localhost:8080/"
        },
        "id": "UnG1Lx7VRplQ",
        "outputId": "3aeab543-66bb-41ee-a366-1b8b7297a4c7"
      },
      "execution_count": null,
      "outputs": [
        {
          "output_type": "stream",
          "name": "stdout",
          "text": [
            "root\n",
            " |-- codigo_oaci: string (nullable = true)\n",
            " |-- ciad: string (nullable = true)\n",
            " |-- nome: string (nullable = true)\n",
            " |-- municipio: string (nullable = true)\n",
            " |-- uf: string (nullable = true)\n",
            " |-- longitude: string (nullable = true)\n",
            " |-- latitude: string (nullable = true)\n",
            " |-- altitude: string (nullable = true)\n",
            " |-- operacao_diurna: string (nullable = true)\n",
            " |-- operacao_noturna: string (nullable = true)\n",
            " |-- designacao_1: string (nullable = true)\n",
            " |-- comprimento_1: float (nullable = true)\n",
            " |-- largura_1: float (nullable = true)\n",
            " |-- resistencia_1: string (nullable = true)\n",
            " |-- superficie_1: string (nullable = true)\n",
            " |-- designacao_2: string (nullable = true)\n",
            " |-- comprimento_2: float (nullable = true)\n",
            " |-- largura_2: float (nullable = true)\n",
            " |-- resistencia_2: string (nullable = true)\n",
            " |-- superficie_2: string (nullable = true)\n",
            " |-- portaria_de_registro: string (nullable = true)\n",
            " |-- link_portaria: string (nullable = true)\n",
            " |-- latgeopoint: string (nullable = true)\n",
            " |-- longeopoint: string (nullable = true)\n",
            "\n"
          ]
        }
      ]
    },
    {
      "cell_type": "code",
      "source": [
        "df.show(truncate=False)"
      ],
      "metadata": {
        "colab": {
          "base_uri": "https://localhost:8080/"
        },
        "id": "hIVJd5kIaGxO",
        "outputId": "1aace221-d0c8-47cb-9c5a-9ac9903b4ab5"
      },
      "execution_count": null,
      "outputs": [
        {
          "output_type": "stream",
          "name": "stdout",
          "text": [
            "+-----------+------+---------------------------------+----------------------+---+-----------------+---------------+--------+---------------+----------------+------------+-------------+---------+--------------------+------------+------------+-------------+---------+--------------------+------------+--------------------+-------------------------------------------------------+-----------+-----------+\n",
            "|codigo_oaci|ciad  |nome                             |municipio             |uf |longitude        |latitude       |altitude|operacao_diurna|operacao_noturna|designacao_1|comprimento_1|largura_1|resistencia_1       |superficie_1|designacao_2|comprimento_2|largura_2|resistencia_2       |superficie_2|portaria_de_registro|link_portaria                                          |latgeopoint|longeopoint|\n",
            "+-----------+------+---------------------------------+----------------------+---+-----------------+---------------+--------+---------------+----------------+------------+-------------+---------+--------------------+------------+------------+-------------+---------+--------------------+------------+--------------------+-------------------------------------------------------+-----------+-----------+\n",
            "|SJ3D       |BA0417|fazenda sinimbu                  |jaborandi             |ba |\"045°09'51\"\"W\"   |\"13°51'59\"\"S\"  |769     |VFR            |VFR             |out/28      |1500.0       |22.0     |12/F/B/Y/U          |Asfalto     |out/28      |1500.0       |22.0     |12/F/B/Y/U          |Asfalto     |PA2022-8843         |https://pergamum.anac.gov.br/arquivos/PA2022-8843.pdf  |-13.866389 |-13.866389 |\n",
            "|SN33       |AM0095|estância buriti                  |autazes               |am |\"059°46'38\"\"W\"   |\"03°32'40\"\"S\"  |31      |VFR            |Sem Operação    |14/32       |500.0        |18.0     |5700 Kg /   0,50 MPa|Terra       |14/32       |500.0        |18.0     |5700 Kg /   0,50 MPa|Terra       |PA2022-9754         |https://pergamum.anac.gov.br/arquivos/PA2022-9754.pdf  |-3.5444444 |-3.5444444 |\n",
            "|SNIH       |MS0209|fazenda rio negro                |aquidauana            |ms |\"056°14'38\"\"W\"   |\"19°34'11\"\"S\"  |109     |VFR            |Sem Operação    |dez/30      |900.0        |18.0     |6/F/B/X/U           |Grama       |jan/19      |800.0        |18.0     |6/F/B/X/U           |Grama       |PA2022-8046         |https://pergamum.anac.gov.br/arquivos/PA2022-8046.pdf  |-19.569722 |-19.569722 |\n",
            "|SSVC       |MS0533|fazenda vazante                  |aquidauana            |ms |\"056°09'42\"\"W\"   |\"20°03'48\"\"S\"  |124     |VFR / IFR      |VFR / IFR       |nov/29      |600.0        |20.0     |5700 Kg /   0,50 MPa|Grama       |15/33       |2100.0       |45.0     |44/F/B/X/T          |Asfalto     |PA2002-2077         |https://pergamum.anac.gov.br/arquivos/PA2002-2077.pdf  |-20.063333 |-20.063333 |\n",
            "|SNQT       |PR0067|fazenda estrela do sul           |umuarama              |pr |\"053°28'57\"\"W\"   |\"23°47'18\"\"S\"  |369     |VFR            |Sem Operação    |14/32       |850.0        |30.0     |5000 Kg /   0,50 MPa|Grama       |15/33       |700.0        |20.0     |5000 Kg /   0,50 MPa|Grama       |PA2023-11.715       |https://pergamum.anac.gov.br/arquivos/PA2023-11.715.pdf|-23.788333 |-23.788333 |\n",
            "|SN88       |MS0711|fazenda cordilheira              |miranda               |ms |\"056°53'07\"\"W\"   |\"19°57'13\"\"S\"  |146     |VFR            |Sem Operação    |jan/19      |1000.0       |18.0     |5700 Kg /   0,50 MPa|Grama       |jan/19      |1000.0       |18.0     |5700 Kg /   0,50 MPa|Grama       |PA2023-12.220       |https://pergamum.anac.gov.br/arquivos/PA2023-12.220.pdf|-19.953611 |-19.953611 |\n",
            "|SBGP       |SP0075|embraer - unidade gavião peixoto |gavião peixoto        |sp |\"048°24'17\"\"W\"   |\"21°45'52\"\"S\"  |609     |NULL           |NULL            |02R/20      |3000.0       |45.0     |57/F/A/X/T          |Asfalto     |02L/20      |1800.0       |30.0     |30/F/A/Y/T          |Terra       |PA2021-5749         |https://pergamum.anac.gov.br/arquivos/PA2021-5749.pdf  |-21.764444 |-21.764444 |\n",
            "|SI8N       |MG0506|aeródromo fazenda água boa       |união de minas        |mg |\"050°17'30\"\"W\"   |\"19°16'22\"\"S\"  |0       |VFR            |Sem Operação    |abr/22      |1100.0       |23.0     |5400 Kg /   0,50 MPa|Terra       |abr/22      |1100.0       |23.0     |5400 Kg /   0,50 MPa|Terra       |PA2022-8486         |https://pergamum.anac.gov.br/arquivos/PA2022-8486.pdf  |-19.272778 |-19.272778 |\n",
            "|SI8C       |BA0396|grupo pivot                      |jaborandi             |ba |\"045°48'44\"\"W\"   |\"14°18'58\"\"S\"  |891     |VFR            |Sem Operação    |out/28      |1060.0       |20.0     |5700 Kg /   0,50 MPa|Terra       |out/28      |1060.0       |20.0     |5700 Kg /   0,50 MPa|Terra       |PA2022-8470         |https://pergamum.anac.gov.br/arquivos/PA2022-8470.pdf  |-14.316111 |-14.316111 |\n",
            "|SJ4S       |PR0191|fazenda candoara                 |candói                |pr |\"052°15'32\"\"W\"   |\"25°40'41\"\"S\"  |723     |VFR            |VFR             |ago/26      |650.0        |16.0     |5600 Kg /   1,50 MPa|Cascalho    |ago/26      |650.0        |16.0     |5600 Kg /   1,50 MPa|Cascalho    |PA2022-8572         |https://pergamum.anac.gov.br/arquivos/PA2022-8572.pdf  |-25.678056 |-25.678056 |\n",
            "|SJ37       |MA0139|fazenda colina verde             |colinas               |ma |\"044°09'37\"\"W\"   |\"06°15'21\"\"S\"  |456     |VFR            |Sem Operação    |14/32       |1200.0       |20.0     |5700 Kg /   0,50 MPa|Piçarra     |14/32       |1200.0       |20.0     |5700 Kg /   0,50 MPa|Piçarra     |PA2022-8667         |https://pergamum.anac.gov.br/arquivos/PA2022-8667.pdf  |-6.2558333 |-6.2558333 |\n",
            "|SI8V       |AM0101|fazenda manu                     |lábrea                |am |\"065°42'54\"\"W\"   |\"09°24'14\"\"S\"  |0       |VFR            |Sem Operação    |fev/20      |1200.0       |18.0     |5700 Kg /   0,50 MPa|Cascalho    |fev/20      |1200.0       |18.0     |5700 Kg /   0,50 MPa|Cascalho    |PA2022-8592         |https://pergamum.anac.gov.br/arquivos/PA2022-8592.pdf  |-9.4038889 |-9.4038889 |\n",
            "|SIXD       |RS0071|fazenda da paz                   |sant'ana do livramento|rs |\"055°34'04,77\"\"W\"|\"30°50'39,8\"\"S\"|272     |VFR            |Sem Operação    |jan/19      |620.0        |18.0     |5700 Kg /   0,25 MPa|Grama       |nov/29      |799.0        |23.0     |10/F/B/Z/U          |Grama       |PA2024-15.811       |https://pergamum.anac.gov.br/arquivos/PA2024-15.811.pdf|-30.844167 |-30.844167 |\n",
            "|SJEW       |MS0502|usina santa helena               |nova andradina        |ms |\"053°24'59\"\"W\"   |\"21°58'34\"\"S\"  |389     |VFR            |Sem Operação    |dez/30      |1050.0       |20.0     |5700 Kg /   0,50 MPa|Grama       |NULL        |NULL         |NULL     |NULL                |NULL        |PA2020-1307         |https://pergamum.anac.gov.br/arquivos/PA2020-1307.pdf  |-21.976111 |-21.976111 |\n",
            "|SSOW       |RS0098|aeroclube de frederico westphalen|frederico westphalen  |rs |\"053°24'12\"\"W\"   |\"27°20'51\"\"S\"  |562     |VFR            |Sem Operação    |nov/29      |900.0        |18.0     |5700 Kg /   0,50 MPa|Asfalto     |NULL        |NULL         |NULL     |NULL                |NULL        |PA2016-2296         |https://pergamum.anac.gov.br/arquivos/PA2016-2296.pdf  |-27.3475   |-27.3475   |\n",
            "|SSBI       |BA0151|condomínio irmãos gatto          |barreiras             |ba |\"046°18'11\"\"W\"   |\"11°51'11\"\"S\"  |869     |VFR            |Sem Operação    |mai/23      |1600.0       |21.0     |5700 Kg /   0,50 MPa|Cascalho    |NULL        |NULL         |NULL     |NULL                |NULL        |PA2017-1719         |https://pergamum.anac.gov.br/arquivos/PA2017-1719.pdf  |-11.853056 |-11.853056 |\n",
            "|SDNY       |MT0049|fazenda ponte serrada            |campo novo do parecis |mt |\"057°52'02\"\"W\"   |\"13°53'03\"\"S\"  |599     |VFR            |Sem Operação    |mai/23      |800.0        |20.0     |5700 Kg /   0,50 MPa|Cascalho    |NULL        |NULL         |NULL     |NULL                |NULL        |PA2017-2067         |https://pergamum.anac.gov.br/arquivos/PA2017-2067.pdf  |-13.884167 |-13.884167 |\n",
            "|SWHJ       |AC0013|fazenda santa lúcia              |brasiléia             |ac |\"069°11'56\"\"W\"   |\"10°44'47\"\"S\"  |291     |VFR            |Sem Operação    |17/35       |410.0        |18.0     |5700 Kg /   0,50 MPa|Grama       |NULL        |NULL         |NULL     |NULL                |NULL        |PA2018-3873         |https://pergamum.anac.gov.br/arquivos/PA2018-3873.pdf  |-10.746389 |-10.746389 |\n",
            "|SJPS       |MT0206|fazenda promissão                |união do sul          |mt |\"054°26'40\"\"W\"   |\"11°47'30\"\"S\"  |364     |VFR            |Sem Operação    |set/27      |1000.0       |20.0     |5700 Kg /   0,50 MPa|Cascalho    |NULL        |NULL         |NULL     |NULL                |NULL        |PA2018-1092         |https://pergamum.anac.gov.br/arquivos/PA2018-1092.pdf  |-11.791667 |-11.791667 |\n",
            "|SWGU       |MT0452|fazenda são gabriel              |brasnorte             |mt |\"058°14'57\"\"W\"   |\"12°39'22\"\"S\"  |424     |VFR            |Sem Operação    |15/33       |900.0        |18.0     |5700 Kg /   0,50 MPa|Cascalho    |NULL        |NULL         |NULL     |NULL                |NULL        |PA2018-3569         |https://pergamum.anac.gov.br/arquivos/PA2018-3569.pdf  |-12.656111 |-12.656111 |\n",
            "+-----------+------+---------------------------------+----------------------+---+-----------------+---------------+--------+---------------+----------------+------------+-------------+---------+--------------------+------------+------------+-------------+---------+--------------------+------------+--------------------+-------------------------------------------------------+-----------+-----------+\n",
            "only showing top 20 rows\n",
            "\n"
          ]
        }
      ]
    },
    {
      "cell_type": "code",
      "source": [
        "transform.verify_dup(df, 'ciad')"
      ],
      "metadata": {
        "colab": {
          "base_uri": "https://localhost:8080/"
        },
        "id": "UMZtwTxqbzER",
        "outputId": "ca480c89-4334-40ad-bbdc-8c3c3f663e26"
      },
      "execution_count": null,
      "outputs": [
        {
          "output_type": "stream",
          "name": "stdout",
          "text": [
            "Não tem dados duplicados\n"
          ]
        }
      ]
    },
    {
      "cell_type": "code",
      "source": [
        "transform.create_view(df,'aero_priv')"
      ],
      "metadata": {
        "id": "pEkV7LepcFH5"
      },
      "execution_count": null,
      "outputs": []
    },
    {
      "cell_type": "markdown",
      "source": [
        "##### Aero Publico"
      ],
      "metadata": {
        "id": "iZbpfaomeA2f"
      }
    },
    {
      "cell_type": "code",
      "source": [
        "aero_pub = spark.read.csv(file_dict['aerodromospublicos'],sep=';',header=True)"
      ],
      "metadata": {
        "id": "bMjnors-d-5Y"
      },
      "execution_count": null,
      "outputs": []
    },
    {
      "cell_type": "code",
      "source": [
        "df = transform.clean_columns_name(aero_pub)\n",
        "df = transform.clean_data(df)"
      ],
      "metadata": {
        "id": "pmOCkVbXeRcE"
      },
      "execution_count": null,
      "outputs": []
    },
    {
      "cell_type": "code",
      "source": [
        "df.printSchema()"
      ],
      "metadata": {
        "colab": {
          "base_uri": "https://localhost:8080/"
        },
        "id": "dEIUoAkkeRZK",
        "outputId": "2d91d372-c11d-441e-d72d-2a746144b987"
      },
      "execution_count": null,
      "outputs": [
        {
          "output_type": "stream",
          "name": "stdout",
          "text": [
            "root\n",
            " |-- codigo_oaci: string (nullable = true)\n",
            " |-- ciad: string (nullable = true)\n",
            " |-- nome: string (nullable = true)\n",
            " |-- municipio: string (nullable = true)\n",
            " |-- uf: string (nullable = true)\n",
            " |-- municipio_servido: string (nullable = true)\n",
            " |-- uf_servido: string (nullable = true)\n",
            " |-- latgeopoint: string (nullable = true)\n",
            " |-- longeopoint: string (nullable = true)\n",
            " |-- latitude: string (nullable = true)\n",
            " |-- longitude: string (nullable = true)\n",
            " |-- altitude: string (nullable = true)\n",
            " |-- operacao_diurna: string (nullable = true)\n",
            " |-- operacao_noturna: string (nullable = true)\n",
            " |-- designacao_1: string (nullable = true)\n",
            " |-- comprimento_1: string (nullable = true)\n",
            " |-- largura_1: string (nullable = true)\n",
            " |-- resistencia_1: string (nullable = true)\n",
            " |-- superficie_1: string (nullable = true)\n",
            " |-- designacao_2: string (nullable = true)\n",
            " |-- comprimento_2: string (nullable = true)\n",
            " |-- largura_2: string (nullable = true)\n",
            " |-- resistencia_2: string (nullable = true)\n",
            " |-- superficie_2: string (nullable = true)\n",
            " |-- situacao: string (nullable = true)\n",
            " |-- validade_do_registro: string (nullable = true)\n",
            " |-- portaria_de_registro: string (nullable = true)\n",
            " |-- link_portaria: string (nullable = true)\n",
            "\n"
          ]
        }
      ]
    },
    {
      "cell_type": "code",
      "source": [
        "schema_aero_pub = StructType([\n",
        "    StructField(\"codigo_oaci\", StringType(), True),\n",
        "    StructField(\"ciad\", StringType(), True),\n",
        "    StructField(\"nome\", StringType(), True),\n",
        "    StructField(\"municipio\", StringType(), True),\n",
        "    StructField(\"uf\", StringType(), True),\n",
        "    StructField(\"municipio_servido\", StringType(), True),\n",
        "    StructField(\"uf_servido\", StringType(), True),\n",
        "    StructField(\"latgeopoint\", StringType(), True),\n",
        "    StructField(\"longeopoint\", StringType(), True),\n",
        "    StructField(\"latitude\", StringType(), True),\n",
        "    StructField(\"longitude\", StringType(), True),\n",
        "    StructField(\"altitude\", FloatType(), True),\n",
        "    StructField(\"operacao_diurna\", StringType(), True),\n",
        "    StructField(\"operacao_noturna\", StringType(), True),\n",
        "    StructField(\"designacao_1\", StringType(), True),\n",
        "    StructField(\"comprimento_1\", FloatType(), True),\n",
        "    StructField(\"largura_1\", FloatType(), True),\n",
        "    StructField(\"resistencia_1\", StringType(), True),\n",
        "    StructField(\"superficie_1\", StringType(), True),\n",
        "    StructField(\"designacao_2\", StringType(), True),\n",
        "    StructField(\"comprimento_2\", FloatType(), True),\n",
        "    StructField(\"largura_2\", FloatType(), True),\n",
        "    StructField(\"resistencia_2\", StringType(), True),\n",
        "    StructField(\"superficie_2\", StringType(), True),\n",
        "    StructField(\"situacao\", StringType(), True),\n",
        "    StructField(\"validade_do_registro\", StringType(), True),\n",
        "    StructField(\"portaria_de_registro\", StringType(), True),\n",
        "    StructField(\"link_portaria\", StringType(), True)\n",
        "])\n",
        "\n",
        "df = transform.data_types(df, schema_aero_pub)"
      ],
      "metadata": {
        "id": "pfuDZgSEZ_ci"
      },
      "execution_count": null,
      "outputs": []
    },
    {
      "cell_type": "code",
      "source": [
        "df.show(truncate=False)"
      ],
      "metadata": {
        "colab": {
          "base_uri": "https://localhost:8080/"
        },
        "id": "39D5rj4ERs8R",
        "outputId": "99e6972b-55c1-485d-8966-d2adde6b2316"
      },
      "execution_count": null,
      "outputs": [
        {
          "output_type": "stream",
          "name": "stdout",
          "text": [
            "+-----------+------+------------------------------------+-------------+------------------+-----------------+------------------+-----------+-----------+-------------+--------------+--------+----------------------+----------------------+------------+-------------+---------+--------------------+------------+------------+-------------+---------+-------------+------------+-----------+--------------------+--------------------+-------------------------------------------------------+\n",
            "|codigo_oaci|ciad  |nome                                |municipio    |uf                |municipio_servido|uf_servido        |latgeopoint|longeopoint|latitude     |longitude     |altitude|operacao_diurna       |operacao_noturna      |designacao_1|comprimento_1|largura_1|resistencia_1       |superficie_1|designacao_2|comprimento_2|largura_2|resistencia_2|superficie_2|situacao   |validade_do_registro|portaria_de_registro|link_portaria                                          |\n",
            "+-----------+------+------------------------------------+-------------+------------------+-----------------+------------------+-----------+-----------+-------------+--------------+--------+----------------------+----------------------+------------+-------------+---------+--------------------+------------+------------+-------------+---------+-------------+------------+-----------+--------------------+--------------------+-------------------------------------------------------+\n",
            "|SDZG       |CE0008|pedro teixeira castelo regional tauá|tauá         |ceara             |Tauá             |Ceará             |-59.333.333|-59.333.333|\"05°56'00\"\"S\"|\"040°17'51\"\"W\"|444.0   |VFR                   |VFR                   |set/27      |1200.0       |30.0     |7/F/C/Y/U           |Asfalto     |NULL        |NULL         |NULL     |NULL         |NULL        |Cadastrado |07/05/2030          |PA2020-1189         |https://pergamum.anac.gov.br/arquivos/PA2020-1189.pdf  |\n",
            "|SDIG       |SP0038|ibitinga                            |ibitinga     |sao paulo         |Ibitinga         |São Paulo         |-21.747.222|-21.747.222|\"21°44'50\"\"S\"|\"048°51'21\"\"W\"|542.0   |VFR                   |Sem Operação          |13/31       |1200.0       |18.0     |5600 Kg /   0.50 MPa|Asfalto     |NULL        |NULL         |NULL     |NULL         |NULL        |Cadastrado |23/04/2030          |PA2020-1074         |https://pergamum.anac.gov.br/arquivos/PA2020-1074.pdf  |\n",
            "|SBVT       |ES0001|eurico de aguiar salles             |vitória      |espirito santo    |Vitória          |Espírito Santo    |-20.258.056|-20.258.056|\"20°15'29\"\"S\"|\"040°17'11\"\"W\"|3.0     |VFR / IFR - CAT I     |VFR / IFR - CAT I     |jun/24      |1750.0       |45.0     |45/F/B/X/T          |Asfalto     |fev/20      |2058.0       |45.0     |86/F/B/X/T   |Asfalto     |Cadastrado |NULL                |PA2024-13.827       |https://pergamum.anac.gov.br/arquivos/PA2024-13.827.pdf|\n",
            "|SNJK       |BA0047|jequié                              |jequié       |bahia             |Jequié           |Bahia             |-13.877.778|-13.877.778|\"13°52'40\"\"S\"|\"040°04'17\"\"W\"|197.0   |NULL                  |NULL                  |14/32       |1200.0       |23.0     |8/F/C/Y/U           |Asfalto     |NULL        |NULL         |NULL     |NULL         |NULL        |Cadastrado |18/11/2024          |PA2014-2695         |https://pergamum.anac.gov.br/arquivos/PA2014-2695.pdf  |\n",
            "|SSKU       |SC0016|lauro antônio da costa              |curitibanos  |santa catarina    |Curitibanos      |Santa Catarina    |-27.287.222|-27.287.222|\"27°17'14\"\"S\"|\"050°36'14\"\"W\"|978.0   |VFR                   |VFR                   |nov/29      |1400.0       |30.0     |22/F/A/Y/T          |Asfalto     |NULL        |NULL         |NULL     |NULL         |NULL        |Cadastrado |20/05/2030          |PA2020-1296         |https://pergamum.anac.gov.br/arquivos/PA2020-1296.pdf  |\n",
            "|SBJV       |SC0004|lauro carneiro de loyola            |joinville    |santa catarina    |Joinville        |Santa Catarina    |-26.223.056|-26.223.056|\"26°13'23\"\"S\"|\"048°47'52\"\"W\"|5.0     |VFR / IFR - CAT I     |VFR / IFR - CAT I     |15/33       |1540.0       |45.0     |51/F/A/W/T          |Asfalto     |NULL        |NULL         |NULL     |NULL         |NULL        |Cadastrado |17/04/2030          |PA2020/1029         |https://pergamum.anac.gov.br/arquivos/PA2020/1029.pdf  |\n",
            "|SSEP       |RS0031|são sepé                            |são sepé     |rio grande do sul |São Sepé         |Rio Grande do Sul |-30.182.222|-30.182.222|\"30°10'56\"\"S\"|\"053°34'46\"\"W\"|153.0   |NULL                  |NULL                  |14/32       |1140.0       |18.0     |5700 Kg /   0.62 MPa|Saibro      |NULL        |NULL         |NULL     |NULL         |NULL        |Cadastrado |13/01/2031          |PA2021-3955         |https://pergamum.anac.gov.br/arquivos/PA2021-3955.pdf  |\n",
            "|SBDO       |MS0008|dourados                            |dourados     |mato grosso do sul|Dourados         |Mato Grosso do Sul|-22.200.556|-22.200.556|\"22°12'02\"\"S\"|\"054°55'32\"\"W\"|458.0   |VFR / IFR Não Precisão|VFR / IFR Não Precisão|jun/24      |1950.0       |30.0     |28/F/B/X/T          |Asfalto     |NULL        |NULL         |NULL     |NULL         |NULL        |Cadastrado |17/08/2033          |PA2023-12139        |https://pergamum.anac.gov.br/arquivos/PA2023-12139.pdf |\n",
            "|SJRG       |RS0013|regional de rio grande              |rio grande   |rio grande do sul |Rio Grande       |Rio Grande do Sul |-32.083.611|-32.083.611|\"32°05'01\"\"S\"|\"052°10'04\"\"W\"|6.0     |VFR                   |VFR                   |jun/24      |1900.0       |30.0     |11/F/B/Y/T          |Asfalto     |NULL        |NULL         |NULL     |NULL         |NULL        |Cadastrado |21/07/2030          |PA2022-10.073       |https://pergamum.anac.gov.br/arquivos/PA2022-10.073.pdf|\n",
            "|SSXX       |SC0017|municipal joão winckler             |xanxerê      |santa catarina    |Xanxerê          |Santa Catarina    |-26.875    |-26.875    |\"26°52'30\"\"S\"|\"052°22'22\"\"W\"|910.0   |VFR                   |VFR                   |18/36       |1149.0       |18.0     |8/F/A/Y/T           |Asfalto     |NULL        |NULL         |NULL     |NULL         |NULL        |Cadastrado |05/04/2033          |PA2023-10896        |https://pergamum.anac.gov.br/arquivos/PA2023-10896.pdf |\n",
            "|SNGD       |PI0005|guadalupe                           |guadalupe    |piaui             |Guadalupe        |Piauí             |-67.830.556|-67.830.556|\"06°46'59\"\"S\"|\"043°34'51\"\"W\"|180.0   |VFR                   |Sem Operação          |15/33       |1485.0       |30.0     |9/F/C/X/U           |Asfalto     |NULL        |NULL         |NULL     |NULL         |NULL        |Cadastrado |28/10/2030          |PA2020-2978         |https://pergamum.anac.gov.br/arquivos/PA2020-2978.pdf  |\n",
            "|SBCR       |MS0009|corumbá                             |corumbá      |mato grosso do sul|Corumbá          |Mato Grosso do Sul|-19.011.944|-19.011.944|\"19°00'43\"\"S\"|\"057°40'17\"\"W\"|141.0   |VFR / IFR Não Precisão|VFR / IFR Não Precisão|set/27      |1500.0       |45.0     |71/F/C/X/T          |Asfalto     |NULL        |NULL         |NULL     |NULL         |NULL        |Cadastrado |22/03/2026          |PA2016-0668         |https://pergamum.anac.gov.br/arquivos/PA2016-0668.pdf  |\n",
            "|SNKR       |PI0012|corrente                            |corrente     |piaui             |Corrente         |Piauí             |-10.451.944|-10.451.944|\"10°27'07\"\"S\"|\"045°08'11\"\"W\"|473.0   |VFR                   |Sem Operação          |nov/29      |1000.0       |20.0     |2500 Kg /   0.50 MPa|Terra       |NULL        |NULL         |NULL     |NULL         |NULL        |Interditado|NULL                |NULL                |NULL                                                   |\n",
            "|SWDM       |MT0015|diamantino                          |diamantino   |mato grosso       |Diamantino       |Mato Grosso       |-14.376.667|-14.376.667|\"14°22'36\"\"S\"|\"056°24'02\"\"W\"|469.0   |NULL                  |NULL                  |17/35       |1630.0       |18.0     |13/F/C/Y/U          |Asfalto     |NULL        |NULL         |NULL     |NULL         |NULL        |Cadastrado |NULL                |NULL                |NULL                                                   |\n",
            "|SSVI       |SC0011|ângelo ponzoni                      |videira      |santa catarina    |Videira          |Santa Catarina    |-26.999.722|-26.999.722|\"26°59'59\"\"S\"|\"051°08'29\"\"W\"|843.0   |VFR                   |Sem Operação          |out/28      |1400.0       |23.0     |11/F/A/Y/T          |Asfalto     |NULL        |NULL         |NULL     |NULL         |NULL        |Cadastrado |NULL                |PA2018-3718         |https://pergamum.anac.gov.br/arquivos/PA2018-3718.pdf  |\n",
            "|SWKO       |AM0010|coari                               |coari        |amazonas          |Coari            |Amazonas          |-41.341.667|-41.341.667|\"04°08'03\"\"S\"|\"063°07'57\"\"W\"|40.0    |VFR                   |Sem Operação          |out/28      |1600.0       |36.0     |29/F/C/X/U          |Asfalto     |NULL        |NULL         |NULL     |NULL         |NULL        |Cadastrado |14/07/2033          |PA2023-11806        |https://pergamum.anac.gov.br/arquivos/PA2023-11806.pdf |\n",
            "|SDTF       |SP0050|tatuí                               |tatuí        |sao paulo         |Tatuí            |São Paulo         |-23.331.944|-23.331.944|\"23°19'55\"\"S\"|\"047°52'48\"\"W\"|635.0   |VFR                   |Sem Operação          |14/32       |1300.0       |30.0     |28/F/B/X/T          |Terra       |NULL        |NULL         |NULL     |NULL         |NULL        |Cadastrado |23/04/2030          |PA2020-1084         |https://pergamum.anac.gov.br/arquivos/PA2020-1084.pdf  |\n",
            "|SSIJ       |RS0032|ijuí                                |ijuí         |rio grande do sul |Ijuí             |Rio Grande do Sul |-28.368.611|-28.368.611|\"28°22'07\"\"S\"|\"053°50'47\"\"W\"|365.0   |VFR                   |VFR                   |18/36       |1280.0       |23.0     |8/F/C/Y/U           |Asfalto     |NULL        |NULL         |NULL     |NULL         |NULL        |Cadastrado |23/07/2030          |PA2020-1835         |https://pergamum.anac.gov.br/arquivos/PA2020-1835.pdf  |\n",
            "|SBGM       |RO0006|guajará-mirim                       |guajará-mirim|rondonia          |Guajará-Mirim    |Rondônia          |-10.788.333|-10.788.333|\"10°47'18\"\"S\"|\"065°16'54\"\"W\"|146.0   |VFR                   |VFR                   |17/35       |1795.0       |45.0     |30/F/C/X/U          |Asfalto     |NULL        |NULL         |NULL     |NULL         |NULL        |Cadastrado |09/04/2030          |PA2020-0974         |https://pergamum.anac.gov.br/arquivos/PA2020-0974.pdf  |\n",
            "|SNLT       |PI0010|paulistana                          |paulistana   |piaui             |Paulistana       |Piauí             |-81.663.889|-81.663.889|\"08°09'59\"\"S\"|\"041°09'14\"\"W\"|360.0   |VFR                   |Sem Operação          |jul/25      |1060.0       |30.0     |2500 Kg /   0.50 MPa|Cascalho    |NULL        |NULL         |NULL     |NULL         |NULL        |Interditado|NULL                |NULL                |NULL                                                   |\n",
            "+-----------+------+------------------------------------+-------------+------------------+-----------------+------------------+-----------+-----------+-------------+--------------+--------+----------------------+----------------------+------------+-------------+---------+--------------------+------------+------------+-------------+---------+-------------+------------+-----------+--------------------+--------------------+-------------------------------------------------------+\n",
            "only showing top 20 rows\n",
            "\n"
          ]
        }
      ]
    },
    {
      "cell_type": "code",
      "source": [
        "transform.verify_dup(df, 'ciad')"
      ],
      "metadata": {
        "colab": {
          "base_uri": "https://localhost:8080/"
        },
        "id": "gnip9SL4euC6",
        "outputId": "c7ddfad3-6a48-45af-e87d-1157019d2039"
      },
      "execution_count": null,
      "outputs": [
        {
          "output_type": "stream",
          "name": "stdout",
          "text": [
            "Não tem dados duplicados\n"
          ]
        }
      ]
    },
    {
      "cell_type": "code",
      "source": [
        "transform.create_view(df,'aero_pub')"
      ],
      "metadata": {
        "id": "JPmuLEpUftut"
      },
      "execution_count": null,
      "outputs": []
    },
    {
      "cell_type": "code",
      "source": [
        "df_join = spark.sql(\"\"\"\n",
        "                        SELECT DISTINCT\n",
        "                        codigo_oaci,\n",
        "                        ciad,\n",
        "                        nome,\n",
        "                        municipio,\n",
        "                        utc.estado as uf,\n",
        "                        utc.utc as utc,\n",
        "                        'privado' as origem\n",
        "                    FROM\n",
        "                        aero_priv\n",
        "                    LEFT JOIN utc\n",
        "                    ON aero_priv.uf = utc.uf\n",
        "                    UNION ALL\n",
        "                    SELECT DISTINCT\n",
        "                        codigo_oaci,\n",
        "                        ciad,\n",
        "                        nome,\n",
        "                        municipio,\n",
        "                        aero_pub.uf,\n",
        "                        utc.utc,\n",
        "                        'publico' as origem\n",
        "                    FROM\n",
        "                        aero_pub\n",
        "                    LEFT JOIN utc\n",
        "                    ON aero_pub.uf = utc.estado\n",
        "\n",
        "\"\"\")"
      ],
      "metadata": {
        "id": "oDozfGCNfya2"
      },
      "execution_count": null,
      "outputs": []
    },
    {
      "cell_type": "code",
      "source": [
        "df_join.where(\"utc is null\").show(truncate=False)"
      ],
      "metadata": {
        "colab": {
          "base_uri": "https://localhost:8080/"
        },
        "id": "5TNMx_dZKZ8g",
        "outputId": "55ca5f58-29b7-4c3c-d6a4-39bbbec09731"
      },
      "execution_count": null,
      "outputs": [
        {
          "output_type": "stream",
          "name": "stdout",
          "text": [
            "+-----------+------+-------+---------+----+----+-------+\n",
            "|codigo_oaci|ciad  |nome   |municipio|uf  |utc |origem |\n",
            "+-----------+------+-------+---------+----+----+-------+\n",
            "|SDRS       |RJ0007|resende|NULL     |NULL|NULL|publico|\n",
            "+-----------+------+-------+---------+----+----+-------+\n",
            "\n"
          ]
        }
      ]
    },
    {
      "cell_type": "code",
      "source": [
        "transform.verify_dup(df_join, 'ciad')"
      ],
      "metadata": {
        "colab": {
          "base_uri": "https://localhost:8080/"
        },
        "id": "XJDqqE1WfnZy",
        "outputId": "18160d2b-3081-4251-b6d3-a7262cb20e7c"
      },
      "execution_count": null,
      "outputs": [
        {
          "output_type": "stream",
          "name": "stdout",
          "text": [
            "Não tem dados duplicados\n"
          ]
        }
      ]
    },
    {
      "cell_type": "code",
      "source": [
        "df_join.write.mode('overwrite').format('parquet').partitionBy('origem').save('/content/drive/MyDrive/projeto_dados/prata/aerodromos')"
      ],
      "metadata": {
        "id": "K_aVDZNbfnc0"
      },
      "execution_count": null,
      "outputs": []
    },
    {
      "cell_type": "markdown",
      "source": [
        "### Camada Ouro"
      ],
      "metadata": {
        "id": "nk5NsSYNulgA"
      }
    },
    {
      "cell_type": "code",
      "source": [
        "#Quais são os principais tipos de reportes e como eles se comportam ao longo dos anos?\n",
        "#Como as ocorrências estão distribuídas geograficamente?\n",
        "#Há padrões sazonais que indicam aumento no número de incidentes em determinados períodos?\n",
        "#Existe alguma relação do tipo de passáro com o tipo de ocorrência?"
      ],
      "metadata": {
        "id": "KpUltjkguoUg"
      },
      "execution_count": null,
      "outputs": []
    },
    {
      "cell_type": "code",
      "source": [
        "reportes = spark.read.parquet(\"/content/drive/MyDrive/projeto_dados/prata/reportes\")\n",
        "aerodromos = spark.read.parquet(\"/content/drive/MyDrive/projeto_dados/prata/aerodromos\")\n",
        "especies = spark.read.parquet(\"/content/drive/MyDrive/projeto_dados/prata/especies\")"
      ],
      "metadata": {
        "id": "uY6QrgMWH6vY"
      },
      "execution_count": null,
      "outputs": []
    },
    {
      "cell_type": "code",
      "source": [
        "reportes.createOrReplaceTempView(\"reportes\")\n",
        "aerodromos.createOrReplaceTempView(\"aerodromos\")\n",
        "especies.createOrReplaceTempView(\"especies\")"
      ],
      "metadata": {
        "id": "_HoFh1pXJulv"
      },
      "execution_count": null,
      "outputs": []
    },
    {
      "cell_type": "code",
      "source": [
        "aerodromos.show(5,truncate=False)"
      ],
      "metadata": {
        "colab": {
          "base_uri": "https://localhost:8080/"
        },
        "id": "hsoWIj7oKSR2",
        "outputId": "6efcb75b-a310-4166-89d8-e013e095a85b"
      },
      "execution_count": null,
      "outputs": [
        {
          "output_type": "stream",
          "name": "stdout",
          "text": [
            "+-----------+------+-------------------+----------+------------------+---+-------+\n",
            "|codigo_oaci|ciad  |nome               |municipio |uf                |utc|origem |\n",
            "+-----------+------+-------------------+----------+------------------+---+-------+\n",
            "|SJFO       |GO0071|fazenda sorriso    |mossâmedes|goias             |-3 |privado|\n",
            "|SJKV       |RR0042|cumanã 1           |pacaraima |roraima           |-4 |privado|\n",
            "|SD93       |MS0548|fazenda são vicente|ponta porã|mato grosso do sul|-4 |privado|\n",
            "|SWLX       |MT0365|fazenda analice    |jauru     |mato grosso       |-4 |privado|\n",
            "|SWAG       |TO0041|agrícola rio galhão|mateiros  |tocantins         |-3 |privado|\n",
            "+-----------+------+-------------------+----------+------------------+---+-------+\n",
            "only showing top 5 rows\n",
            "\n"
          ]
        }
      ]
    },
    {
      "cell_type": "code",
      "source": [
        "big_table = spark.sql(\"\"\"\n",
        "    WITH big_table as (\n",
        "        SELECT\n",
        "        reportes.codigo_reporte\n",
        "        ,reportes.classificacao_ocorrencia\n",
        "        ,reportes.tipo_reporte\n",
        "        ,date_format((TO_TIMESTAMP(CONCAT(reportes.data, ' ', reportes.hora_local), 'yyyy-MM-dd HH:mm:ss') + INTERVAL '1 hour' * (aerodromos.utc+3)), 'yyyy-MM-dd') AS data_br\n",
        "        ,date_format((TO_TIMESTAMP(CONCAT(reportes.data, ' ', reportes.hora_local), 'yyyy-MM-dd HH:mm:ss') + INTERVAL '1 hour' * (aerodromos.utc+3)), 'HH:mm:ss') AS hora_br\n",
        "        ,reportes.fase_voo\n",
        "        ,reportes.efeito_no_voo\n",
        "        ,reportes.icao\n",
        "        ,aerodromos.nome as nome_aerodromo\n",
        "        ,aerodromos.municipio as municipio_aerodromo\n",
        "        ,INITCAP(aerodromos.uf) as uf_aerodromo\n",
        "        ,aerodromos.origem\n",
        "        ,especies.nome_pt as nome_especie\n",
        "    FROM reportes\n",
        "    LEFT JOIN aerodromos ON reportes.icao = aerodromos.codigo_oaci\n",
        "    LEFT JOIN especies ON reportes.codigo_reporte = especies.cod_cenipa15\n",
        "    WHERE utc is not null\n",
        "    )\n",
        "    SELECT\n",
        "        classificacao_ocorrencia\n",
        "        ,tipo_reporte\n",
        "        ,data_br\n",
        "        ,HOUR(hora_br) as hora_br\n",
        "        ,fase_voo\n",
        "        ,efeito_no_voo\n",
        "        ,icao\n",
        "        ,municipio_aerodromo\n",
        "        ,uf_aerodromo\n",
        "        ,origem\n",
        "        ,nome_especie\n",
        "        ,COUNT(*) as qtd\n",
        "    FROM big_table\n",
        "    GROUP BY\n",
        "        classificacao_ocorrencia\n",
        "        ,tipo_reporte\n",
        "        ,data_br\n",
        "        ,HOUR(hora_br)\n",
        "        ,fase_voo\n",
        "        ,efeito_no_voo\n",
        "        ,icao\n",
        "        ,municipio_aerodromo\n",
        "        ,uf_aerodromo\n",
        "        ,origem\n",
        "        ,nome_especie\n",
        "    ORDER BY qtd DESC\n",
        "\"\"\")"
      ],
      "metadata": {
        "id": "OFUkJ3iRJyZa"
      },
      "execution_count": null,
      "outputs": []
    },
    {
      "cell_type": "code",
      "source": [
        "big_table.printSchema()"
      ],
      "metadata": {
        "colab": {
          "base_uri": "https://localhost:8080/"
        },
        "id": "JJHMcoO3J_BL",
        "outputId": "01544961-2bf4-4730-da89-e5e23b56a9a8"
      },
      "execution_count": null,
      "outputs": [
        {
          "output_type": "stream",
          "name": "stdout",
          "text": [
            "root\n",
            " |-- classificacao_ocorrencia: string (nullable = true)\n",
            " |-- tipo_reporte: string (nullable = true)\n",
            " |-- data_br: string (nullable = true)\n",
            " |-- hora_br: integer (nullable = true)\n",
            " |-- fase_voo: string (nullable = true)\n",
            " |-- efeito_no_voo: string (nullable = true)\n",
            " |-- icao: string (nullable = true)\n",
            " |-- municipio_aerodromo: string (nullable = true)\n",
            " |-- uf_aerodromo: string (nullable = true)\n",
            " |-- origem: string (nullable = true)\n",
            " |-- nome_especie: string (nullable = true)\n",
            " |-- qtd: long (nullable = false)\n",
            "\n"
          ]
        }
      ]
    },
    {
      "cell_type": "code",
      "source": [
        "big_table.show(truncate=False)"
      ],
      "metadata": {
        "colab": {
          "base_uri": "https://localhost:8080/"
        },
        "id": "ocS3KFe5IggL",
        "outputId": "c304b8bc-5c55-4a0b-a13f-1d511d279383"
      },
      "execution_count": null,
      "outputs": [
        {
          "output_type": "stream",
          "name": "stdout",
          "text": [
            "+------------------------+-------------+----------+-------+----------------+-------------------------------+----+---------------------+------------------+-------+---------------------+---+\n",
            "|classificacao_ocorrencia|tipo_reporte |data_br   |hora_br|fase_voo        |efeito_no_voo                  |icao|municipio_aerodromo  |uf_aerodromo      |origem |nome_especie         |qtd|\n",
            "+------------------------+-------------+----------+-------+----------------+-------------------------------+----+---------------------+------------------+-------+---------------------+---+\n",
            "|Ocorrência Anormal      |avistamento  |2020-07-12|17     |Revisão de pista|Nenhum                         |SBGL|rio de janeiro       |Rio De Janeiro    |publico|Quero-quero          |9  |\n",
            "|Ocorrência Anormal      |avistamento  |2020-06-20|9      |Revisão de pista|Nenhum                         |SBGL|rio de janeiro       |Rio De Janeiro    |publico|Quero-quero          |8  |\n",
            "|Ocorrência Anormal      |avistamento  |2020-09-19|8      |Revisão de pista|Nenhum                         |SBGL|rio de janeiro       |Rio De Janeiro    |publico|Quero-quero          |8  |\n",
            "|Ocorrência Anormal      |avistamento  |2020-09-19|17     |Revisão de pista|Nenhum                         |SBGL|rio de janeiro       |Rio De Janeiro    |publico|Quero-quero          |6  |\n",
            "|Ocorrência Anormal      |avistamento  |2020-07-12|10     |Revisão de pista|Nenhum                         |SBGL|rio de janeiro       |Rio De Janeiro    |publico|Quero-quero          |5  |\n",
            "|Ocorrência Anormal      |avistamento  |2020-06-03|15     |Revisão de pista|Nenhum                         |SBGL|rio de janeiro       |Rio De Janeiro    |publico|Quero-quero          |5  |\n",
            "|Ocorrência Anormal      |avistamento  |2020-06-19|6      |Revisão de pista|Nenhum                         |SBGL|rio de janeiro       |Rio De Janeiro    |publico|Quero-quero          |5  |\n",
            "|Ocorrência Anormal      |quase colisão|2021-06-02|7      |aproximação     |Nenhum                         |SBBV|boa vista            |Roraima           |publico|Urubu-de-cabeça-preta|5  |\n",
            "|Ocorrência Anormal      |avistamento  |2020-09-15|13     |Revisão de pista|Nenhum                         |SBGL|rio de janeiro       |Rio De Janeiro    |publico|Quero-quero          |5  |\n",
            "|Ocorrência Anormal      |avistamento  |2020-11-29|7      |Revisão de pista|Nenhum                         |SBGL|rio de janeiro       |Rio De Janeiro    |publico|Pardal               |4  |\n",
            "|Ocorrência Anormal      |avistamento  |2020-05-07|8      |Revisão de pista|Nenhum                         |SBGL|rio de janeiro       |Rio De Janeiro    |publico|Fragata              |4  |\n",
            "|Ocorrência Anormal      |avistamento  |2021-02-12|16     |Revisão de pista|Nenhum                         |SBBR|brasília             |Distrito Federal  |publico|Quero-quero          |4  |\n",
            "|Ocorrência Anormal      |quase colisão|2017-05-24|15     |aproximação     |Desestabilização na aproximação|SBPV|porto velho          |Rondonia          |publico|Urubus               |4  |\n",
            "|Ocorrência Anormal      |avistamento  |2020-06-10|6      |Revisão de pista|Nenhum                         |SBGL|rio de janeiro       |Rio De Janeiro    |publico|Quero-quero          |4  |\n",
            "|Ocorrência Anormal      |avistamento  |2020-11-04|11     |aproximação     |Nenhum                         |SBCP|campos dos goytacazes|Rio De Janeiro    |publico|Urubus               |4  |\n",
            "|Ocorrência Anormal      |avistamento  |2014-09-30|14     |aproximação     |Nenhum                         |SBBV|boa vista            |Roraima           |publico|Urubus               |4  |\n",
            "|Ocorrência Anormal      |avistamento  |2020-09-15|6      |Revisão de pista|Nenhum                         |SBGL|rio de janeiro       |Rio De Janeiro    |publico|Quero-quero          |4  |\n",
            "|Ocorrência Anormal      |avistamento  |2020-06-26|15     |Revisão de pista|Nenhum                         |SBCG|campo grande         |Mato Grosso Do Sul|publico|Quero-quero          |4  |\n",
            "|Ocorrência Anormal      |avistamento  |2020-09-14|15     |táxi            |Nenhum                         |SBGL|rio de janeiro       |Rio De Janeiro    |publico|Quero-quero          |4  |\n",
            "|Ocorrência Anormal      |avistamento  |2020-10-01|8      |Revisão de pista|Nenhum                         |SBGL|rio de janeiro       |Rio De Janeiro    |publico|Quero-quero          |4  |\n",
            "+------------------------+-------------+----------+-------+----------------+-------------------------------+----+---------------------+------------------+-------+---------------------+---+\n",
            "only showing top 20 rows\n",
            "\n"
          ]
        }
      ]
    },
    {
      "cell_type": "code",
      "source": [
        "big_table.coalesce(1).write.mode('overwrite').format('csv').option(\"encoding\", \"UTF-8\").save('/content/drive/MyDrive/projeto_dados/ouro/big_table',header=True)"
      ],
      "metadata": {
        "id": "Pwq7OV8iXBMV"
      },
      "execution_count": null,
      "outputs": []
    },
    {
      "cell_type": "markdown",
      "source": [
        "## Visualização"
      ],
      "metadata": {
        "id": "17xIFYVAWAEp"
      }
    },
    {
      "cell_type": "code",
      "source": [
        "## Desafio 2:\n",
        "\"\"\"\n",
        "Desafio:\n",
        "    - Desenvolver a parte de visualização por script aqui no colab\n",
        "    MAIS AVANÇADO\n",
        "    - Desenvolverem um processo automático de consumo e atualização dos dados da camada gold usando outra ferramenta\n",
        "    - Procurar e desenvolver outros gráficos, respondendo outras perguntas que vocês viram nos dados, mas que não foi questionado\n",
        "\"\"\"\n"
      ],
      "metadata": {
        "id": "nJhjVuU1V_b5"
      },
      "execution_count": null,
      "outputs": []
    }
  ]
}